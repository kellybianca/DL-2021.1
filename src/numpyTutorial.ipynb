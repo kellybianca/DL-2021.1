{
  "nbformat": 4,
  "nbformat_minor": 0,
  "metadata": {
    "colab": {
      "name": "numpyTutorial.ipynb",
      "provenance": [],
      "collapsed_sections": [
        "bA_NRrN7569y",
        "3oe7XkSAUZF2",
        "KPfGPiTiV4-J",
        "E5DPt69AWaim",
        "pNjLG29vbwDH",
        "siqvhCMjAAIz",
        "1noirACTC5zQ",
        "7nsLvnNEG8Xx",
        "ncICkBPxOeBc",
        "B3tFZcnmtrnR",
        "NNw9KSpjtz7q",
        "CoEWGe24t2-u",
        "VapGC6U0t7sz",
        "vv24aJo-uCh6",
        "vIypscCTuJM_",
        "mGP4HH6VuSWD",
        "b1TbxPUVuT23",
        "ZYU6sgmruU5_",
        "MULys7d6uX79",
        "SI_hAiI4uxvl",
        "5Wi_uWgpuZAI",
        "LWydWywNuZ4V",
        "ucTdJ72ZualR",
        "xgPnD0MVubWR",
        "RfGEiFRkfltk",
        "uWMTlKhHgPgw",
        "DEQ-cLKigVql",
        "3TtMu0iJgYBD",
        "g6TD6LJfgaKN",
        "u6KnLufsgcAB",
        "Hr1GbW6OgeoX",
        "H0DMGO77ghHz",
        "1CRtpboKgjoj",
        "U2BCu1h4gkhT",
        "C71sCoEDp22h",
        "SOfsUN1bp6Xc",
        "mry0RE9Wp-oC",
        "r6qNry0mp_w8",
        "TCgT-OViqAqS",
        "ACuO9olbqBsE",
        "lcG4GJO3qCmp",
        "0UwNIluzqD-b",
        "264xSI-NqEzJ",
        "OmguMnwwqFsv",
        "4DJEb_uYqMdr",
        "UV9RqrvKqNV0",
        "lC3swNXMqODT",
        "NEnlpxlENWx0",
        "xD_ltD_vNz2t",
        "G49uW8FJN1ta",
        "XfYZad7GN3Am",
        "dGcImMIxN4KT",
        "M0OIcg2xNYPr",
        "PEjhRxosOD33",
        "-4G-AmNJOao_",
        "3uzhNilnOcoF",
        "a2fAwrvpOd0t",
        "a0PMsInyOe67",
        "sp_oj19GOiN9",
        "HiI6EtYvOjYd",
        "Z4NRyy-7Okjj",
        "eKkp4c9INatK",
        "SNIzSVZiOnSq",
        "q39rB_T6OqNc",
        "JpXtsXo5OrMz",
        "KVQ52fHoOsMS",
        "jIwsjKuuOtuU",
        "qwftF7HHOu0C",
        "pBKQWfv8NeWo",
        "dy50jRX9Ozvm",
        "IttFK6QmO1fT",
        "cmnNmw7hO3q9",
        "-6NqjmkPO5Ah",
        "inw3KGl-O6nU",
        "vYtdZCI6O71F",
        "HIEiFmhvO9Id",
        "dQKDOfvdO-jf",
        "0eUu9NbPO_zz",
        "RAUxBFqdPBHD",
        "a9hSxs1ePCSt",
        "x2gbgQq_PDva",
        "8Dj8VM6IPEz8",
        "SUWywdYXPF5J",
        "pVMRiF7gPG5n",
        "SeEY9MULNhEX",
        "GFmjkghONg__",
        "i6yEcmMmNnhK",
        "nGQx0nyVPnEs",
        "tJPBOhsLPois",
        "LAdQEC_hPqjv",
        "fOWrsoisPtqR",
        "xAQU007kP4Fa",
        "6gosagYZP5U5",
        "V6Pe2gTCP6nM",
        "U21ZN1wvP8AO",
        "8Bs2fPCVP9JG",
        "N_PDKZJnP-eo",
        "wHQYy9jdP_om",
        "SBMJ01JzQGyM",
        "pX0BxmLfQLoI",
        "CcIfuEF2QOUh",
        "vkZsDRozQPoN",
        "zCfTGW1RQRpc",
        "Qn36cxYNQS7P",
        "AsUjMlcIQT9v",
        "6OLRaA31QU9U",
        "aA8ml2vHQWB8",
        "-ntMoU9kQW9g"
      ],
      "authorship_tag": "ABX9TyOxxGFjDJC0uY9pmc40TSiS",
      "include_colab_link": true
    },
    "kernelspec": {
      "name": "python3",
      "display_name": "Python 3"
    },
    "language_info": {
      "name": "python"
    }
  },
  "cells": [
    {
      "cell_type": "markdown",
      "metadata": {
        "id": "view-in-github",
        "colab_type": "text"
      },
      "source": [
        "<a href=\"https://colab.research.google.com/github/kellybianca/DL-2021.1/blob/main/src/numpyTutorial.ipynb\" target=\"_parent\"><img src=\"https://colab.research.google.com/assets/colab-badge.svg\" alt=\"Open In Colab\"/></a>"
      ]
    },
    {
      "cell_type": "markdown",
      "metadata": {
        "id": "bA_NRrN7569y"
      },
      "source": [
        "# Questions on NumPy Array\n"
      ]
    },
    {
      "cell_type": "markdown",
      "metadata": {
        "id": "3oe7XkSAUZF2"
      },
      "source": [
        "##### How to create an empty and a full NumPy array?\n",
        "\n",
        "\n",
        "\n",
        "\n",
        "\n"
      ]
    },
    {
      "cell_type": "code",
      "metadata": {
        "id": "DpB5y69qVsyY",
        "colab": {
          "base_uri": "https://localhost:8080/"
        },
        "outputId": "52f04456-7019-49ef-8503-49fef2958b61"
      },
      "source": [
        "import numpy as np\n",
        "\n",
        "empty = np.empty((3, 4), dtype=int)\n",
        "print('Empty array: ', empty)\n",
        "\n",
        "full = np.full([3, 3], 55, dtype=int)\n",
        "print('\\n\\n Full array: ', full)"
      ],
      "execution_count": null,
      "outputs": [
        {
          "output_type": "stream",
          "text": [
            "Empty array:  [[ 1  2  3  4]\n",
            " [ 6 23  8  2]\n",
            " [ 7  1  8  3]]\n",
            "\n",
            "\n",
            " Full array:  [[55 55 55]\n",
            " [55 55 55]\n",
            " [55 55 55]]\n"
          ],
          "name": "stdout"
        }
      ]
    },
    {
      "cell_type": "markdown",
      "metadata": {
        "id": "KPfGPiTiV4-J"
      },
      "source": [
        "##### Create a Numpy array filled with all zeros"
      ]
    },
    {
      "cell_type": "code",
      "metadata": {
        "id": "Orih7rZz6iLF",
        "colab": {
          "base_uri": "https://localhost:8080/"
        },
        "outputId": "5f1459d7-4eba-4265-fef0-af62dd193a08"
      },
      "source": [
        "import numpy as np\n",
        "\n",
        "np.zeros((4), dtype=np.int)"
      ],
      "execution_count": null,
      "outputs": [
        {
          "output_type": "execute_result",
          "data": {
            "text/plain": [
              "array([0, 0, 0, 0])"
            ]
          },
          "metadata": {
            "tags": []
          },
          "execution_count": 27
        }
      ]
    },
    {
      "cell_type": "markdown",
      "metadata": {
        "id": "E5DPt69AWaim"
      },
      "source": [
        "##### Create a Numpy array filled with all ones\n"
      ]
    },
    {
      "cell_type": "code",
      "metadata": {
        "id": "NymZQED9WcxE",
        "colab": {
          "base_uri": "https://localhost:8080/"
        },
        "outputId": "2e02bc9c-a9f6-4026-ef2a-5a98535fa247"
      },
      "source": [
        "import numpy as np\n",
        "\n",
        "np.ones((5), dtype=np.int)"
      ],
      "execution_count": null,
      "outputs": [
        {
          "output_type": "execute_result",
          "data": {
            "text/plain": [
              "array([1, 1, 1, 1, 1])"
            ]
          },
          "metadata": {
            "tags": []
          },
          "execution_count": 28
        }
      ]
    },
    {
      "cell_type": "markdown",
      "metadata": {
        "id": "pNjLG29vbwDH"
      },
      "source": [
        "##### Check whether a Numpy array contains a specified row\n",
        "\n",
        "\n",
        "\n",
        "\n",
        "\n"
      ]
    },
    {
      "cell_type": "code",
      "metadata": {
        "id": "XlpSRuZPXFAV",
        "colab": {
          "base_uri": "https://localhost:8080/"
        },
        "outputId": "ea2bd263-b83a-4c5c-d665-dd1e29d19817"
      },
      "source": [
        "import numpy as np\n",
        "\n",
        "array = np.array([[1,2,3,4],[6,23,8,2],[7,1,8,3]])\n",
        "\n",
        "print([1,2,3,4] in array.tolist())\n",
        "print([6,23,8,2] in array.tolist())\n",
        "print([7,1,8,10] in array.tolist())\n",
        "print([1,2,3,4,5] in array.tolist())"
      ],
      "execution_count": null,
      "outputs": [
        {
          "output_type": "stream",
          "text": [
            "True\n",
            "True\n",
            "False\n",
            "False\n"
          ],
          "name": "stdout"
        }
      ]
    },
    {
      "cell_type": "markdown",
      "metadata": {
        "id": "siqvhCMjAAIz"
      },
      "source": [
        "##### How to Remove rows in Numpy array that contains non-numeric values?"
      ]
    },
    {
      "cell_type": "code",
      "metadata": {
        "id": "lVJj0D4jACRY",
        "colab": {
          "base_uri": "https://localhost:8080/"
        },
        "outputId": "b0c19c89-40e0-4baf-d841-f399fd8df22b"
      },
      "source": [
        "import numpy as np\n",
        "\n",
        "array = np.array([[10.5, 22.5, 3.8],\n",
        "                  [41, np.nan, np.nan]])\n",
        "  \n",
        "print(\"Array before remove: \\n\", array)\n",
        "  \n",
        "print(\"\\nArray after remove non-numeric values: \\n\",array[~np.isnan(array).any(axis=1)] )"
      ],
      "execution_count": null,
      "outputs": [
        {
          "output_type": "stream",
          "text": [
            "Array before remove: \n",
            " [[10.5 22.5  3.8]\n",
            " [41.   nan  nan]]\n",
            "\n",
            "Array after remove non-numeric values: \n",
            " [[10.5 22.5  3.8]]\n"
          ],
          "name": "stdout"
        }
      ]
    },
    {
      "cell_type": "markdown",
      "metadata": {
        "id": "1noirACTC5zQ"
      },
      "source": [
        "##### Remove single-dimensional entries from the shape of an array.\n",
        "\n",
        " Ref.: [NumpySqueeze](https://www.geeksforgeeks.org/numpy-squeeze-in-python/)"
      ]
    },
    {
      "cell_type": "code",
      "metadata": {
        "id": "ABhPd05cC7Xl",
        "colab": {
          "base_uri": "https://localhost:8080/"
        },
        "outputId": "f8a81495-3dcf-4811-901a-90d6e2ddd6d0"
      },
      "source": [
        "import numpy as geek\n",
        "\n",
        "# axis : Selects a subset of the single-dimensional entries in the shape. \n",
        "\n",
        "in_arr = geek.arange(9).reshape(1, 3, 3) \n",
        "print (\"Input array: \\n\", in_arr)  \n",
        "\n",
        "out_arr = geek.squeeze(in_arr, axis = 0) \n",
        "print (\"\\nOutput array: \\n\", out_arr)  \n",
        "\n",
        "print(\"\\nThe shapes of Input: \",in_arr.shape, \"and Output: \", out_arr.shape) "
      ],
      "execution_count": null,
      "outputs": [
        {
          "output_type": "stream",
          "text": [
            "Input array: \n",
            " [[[0 1 2]\n",
            "  [3 4 5]\n",
            "  [6 7 8]]]\n",
            "\n",
            "Output array: \n",
            " [[0 1 2]\n",
            " [3 4 5]\n",
            " [6 7 8]]\n",
            "\n",
            "The shapes of Input:  (1, 3, 3) and Output:  (3, 3)\n"
          ],
          "name": "stdout"
        }
      ]
    },
    {
      "cell_type": "markdown",
      "metadata": {
        "id": "7nsLvnNEG8Xx"
      },
      "source": [
        "##### Find the number of occurrences of a sequence in a NumPy array\n",
        "\n"
      ]
    },
    {
      "cell_type": "code",
      "metadata": {
        "id": "1Hf80s5YIRdJ",
        "colab": {
          "base_uri": "https://localhost:8080/"
        },
        "outputId": "1de7d3a6-3d9b-4b3f-e9cb-5d8752a186eb"
      },
      "source": [
        "import numpy as np\n",
        "\n",
        "array = np.array([[2, 8, 9, 4], [9, 4, 9, 4], [4, 5, 9, 7], [2, 9, 4, 3]])\n",
        "  \n",
        "output = repr(array).count(\"9, 4\")\n",
        "\n",
        "print(\"Occurrences: \",output)"
      ],
      "execution_count": null,
      "outputs": [
        {
          "output_type": "stream",
          "text": [
            "Occurrences:  4\n"
          ],
          "name": "stdout"
        }
      ]
    },
    {
      "cell_type": "markdown",
      "metadata": {
        "id": "ncICkBPxOeBc"
      },
      "source": [
        "##### Find the most frequent value in a NumPy array\n"
      ]
    },
    {
      "cell_type": "code",
      "metadata": {
        "id": "1LyXwKigsHAh",
        "colab": {
          "base_uri": "https://localhost:8080/"
        },
        "outputId": "14797caf-9926-4891-fdde-645209a21b98"
      },
      "source": [
        "import numpy as np\n",
        "\n",
        "x = np.array([1,2,3,4,5,1,2,3,3,2,1,2,4,5,2,2,3])\n",
        "print(\"Original array: \\n\", x)\n",
        "  \n",
        "print(\"\\nMost frequent value: \", np.bincount(x).argmax())"
      ],
      "execution_count": null,
      "outputs": [
        {
          "output_type": "stream",
          "text": [
            "Original array: \n",
            " [1 2 3 4 5 1 2 3 3 2 1 2 4 5 2 2 3]\n",
            "\n",
            "Most frequent value:  2\n"
          ],
          "name": "stdout"
        }
      ]
    },
    {
      "cell_type": "markdown",
      "metadata": {
        "id": "B3tFZcnmtrnR"
      },
      "source": [
        "##### Combining a one and a two-dimensional NumPy Array\n"
      ]
    },
    {
      "cell_type": "code",
      "metadata": {
        "id": "8ZNiGXyXxiyH",
        "colab": {
          "base_uri": "https://localhost:8080/"
        },
        "outputId": "3ab6126a-759d-48b7-ff84-7264816217ff"
      },
      "source": [
        "import numpy as np\n",
        "  \n",
        "array_1d = np.arange(5)\n",
        "print(\"One dimensional array: \\n\", array_1d)\n",
        "  \n",
        "array_2d = np.arange(10).reshape(2,5)\n",
        "print(\"\\nTwo dimensional array: \\n\", array_2d)\n",
        "\n",
        "print(\"\\nCombination with both arrays: \")\n",
        "for a, b in np.nditer([array_1d, array_2d]):\n",
        "    print(\"\\t%d:%d\" % (a, b),)"
      ],
      "execution_count": null,
      "outputs": [
        {
          "output_type": "stream",
          "text": [
            "One dimensional array: \n",
            " [0 1 2 3 4]\n",
            "\n",
            "Two dimensional array: \n",
            " [[0 1 2 3 4]\n",
            " [5 6 7 8 9]]\n",
            "\n",
            "Combination with both arrays: \n",
            "\t0:0\n",
            "\t1:1\n",
            "\t2:2\n",
            "\t3:3\n",
            "\t4:4\n",
            "\t0:5\n",
            "\t1:6\n",
            "\t2:7\n",
            "\t3:8\n",
            "\t4:9\n"
          ],
          "name": "stdout"
        }
      ]
    },
    {
      "cell_type": "markdown",
      "metadata": {
        "id": "NNw9KSpjtz7q"
      },
      "source": [
        "##### How to build an array of all combinations of two NumPy arrays?"
      ]
    },
    {
      "cell_type": "code",
      "metadata": {
        "id": "iyBg4QfFkvnk",
        "colab": {
          "base_uri": "https://localhost:8080/"
        },
        "outputId": "29e53c76-3a59-4eb5-e309-6a27ddb4aedb"
      },
      "source": [
        "import numpy as np\n",
        "  \n",
        "array_1 = np.array([1, 2])\n",
        "array_2 = np.array([4, 6])\n",
        "  \n",
        "print(\"Array 1: \", array_1)\n",
        "  \n",
        "print(\"\\nArray 2: \", array_2) \n",
        "\n",
        "combination = np.array(np.meshgrid(array_1, array_2)).T.reshape(-1, 2)\n",
        "  \n",
        "print(\"\\nCombination with both arrays: \\n\", combination)"
      ],
      "execution_count": null,
      "outputs": [
        {
          "output_type": "stream",
          "text": [
            "Array 1:  [1 2]\n",
            "\n",
            "Array 2:  [4 6]\n",
            "\n",
            "Combination with both arrays: \n",
            " [[1 4]\n",
            " [1 6]\n",
            " [2 4]\n",
            " [2 6]]\n"
          ],
          "name": "stdout"
        }
      ]
    },
    {
      "cell_type": "markdown",
      "metadata": {
        "id": "CoEWGe24t2-u"
      },
      "source": [
        "##### How to add a border around a NumPy array?"
      ]
    },
    {
      "cell_type": "code",
      "metadata": {
        "colab": {
          "base_uri": "https://localhost:8080/"
        },
        "id": "bPoKH8ymloAT",
        "outputId": "4730d87a-96e3-4f8a-d3f9-68c837c19793"
      },
      "source": [
        "import numpy as np\n",
        "  \n",
        "array = np.ones((2, 2))\n",
        "  \n",
        "print(\"Initial array:\\n\", array)\n",
        "  \n",
        "print(\"\\n0 on the border and 1 inside the array\")\n",
        "\n",
        "array = np.pad(array, pad_width=1, mode='constant',\n",
        "               constant_values=0)\n",
        "  \n",
        "print(array)"
      ],
      "execution_count": null,
      "outputs": [
        {
          "output_type": "stream",
          "text": [
            "Initial array:\n",
            " [[1. 1.]\n",
            " [1. 1.]]\n",
            "\n",
            "0 on the border and 1 inside the array\n",
            "[[0. 0. 0. 0.]\n",
            " [0. 1. 1. 0.]\n",
            " [0. 1. 1. 0.]\n",
            " [0. 0. 0. 0.]]\n"
          ],
          "name": "stdout"
        }
      ]
    },
    {
      "cell_type": "markdown",
      "metadata": {
        "id": "VapGC6U0t7sz"
      },
      "source": [
        "##### How to compare two NumPy arrays?"
      ]
    },
    {
      "cell_type": "code",
      "metadata": {
        "colab": {
          "base_uri": "https://localhost:8080/"
        },
        "id": "1644dbqdl_rx",
        "outputId": "dcc1a90d-bfb9-4b89-8f53-8f5a4283a947"
      },
      "source": [
        "import numpy as np\n",
        "\n",
        "array_1 = np.array([[1,2],[3,4]])\n",
        "array_2 = np.array([[1,2],[3,4]])\n",
        "\n",
        "compare = array_1 == array_2\n",
        "equal_arrays = compare.all()\n",
        "\n",
        "print(equal_arrays)"
      ],
      "execution_count": null,
      "outputs": [
        {
          "output_type": "stream",
          "text": [
            "True\n"
          ],
          "name": "stdout"
        }
      ]
    },
    {
      "cell_type": "markdown",
      "metadata": {
        "id": "vv24aJo-uCh6"
      },
      "source": [
        "##### How to check whether specified values are present in NumPy array?"
      ]
    },
    {
      "cell_type": "code",
      "metadata": {
        "colab": {
          "base_uri": "https://localhost:8080/"
        },
        "id": "6PL8g6yUmy-K",
        "outputId": "f661d822-be0a-48e2-fe03-7ee88cbc6360"
      },
      "source": [
        "import numpy as np\n",
        "  \n",
        "# creating a Numpy array\n",
        "array = np.array([[2, 3, 0], [4, 1, 6]])\n",
        "  \n",
        "print(\"Initial array:\\n\", array )\n",
        "\n",
        "print('\\n2: ',2 in array)\n",
        "print('0: ',0 in array)\n",
        "print('10: ',10 in array)"
      ],
      "execution_count": null,
      "outputs": [
        {
          "output_type": "stream",
          "text": [
            "Initial array:\n",
            " [[2 3 0]\n",
            " [4 1 6]]\n",
            "\n",
            "2:  True\n",
            "0:  True\n",
            "10:  False\n"
          ],
          "name": "stdout"
        }
      ]
    },
    {
      "cell_type": "markdown",
      "metadata": {
        "id": "vIypscCTuJM_"
      },
      "source": [
        "##### How to get all 2D diagonals of a 3D NumPy array?\n"
      ]
    },
    {
      "cell_type": "code",
      "metadata": {
        "colab": {
          "base_uri": "https://localhost:8080/"
        },
        "id": "vZX4rscPnild",
        "outputId": "0617e082-3aa3-4248-bb80-fda182ed7711"
      },
      "source": [
        "import numpy as np\n",
        "  \n",
        "array = np.arange(3 * 4 * 4).reshape(3, 4, 4)\n",
        "  \n",
        "print(\"Original 3d array:\\n\", array)\n",
        "  \n",
        "diag_array = np.diagonal(array, axis1 = 1, axis2 = 2)\n",
        "  \n",
        "print(\"\\n2d diagonal array:\\n\", diag_array)"
      ],
      "execution_count": null,
      "outputs": [
        {
          "output_type": "stream",
          "text": [
            "Original 3d array:\n",
            " [[[ 0  1  2  3]\n",
            "  [ 4  5  6  7]\n",
            "  [ 8  9 10 11]\n",
            "  [12 13 14 15]]\n",
            "\n",
            " [[16 17 18 19]\n",
            "  [20 21 22 23]\n",
            "  [24 25 26 27]\n",
            "  [28 29 30 31]]\n",
            "\n",
            " [[32 33 34 35]\n",
            "  [36 37 38 39]\n",
            "  [40 41 42 43]\n",
            "  [44 45 46 47]]]\n",
            "\n",
            "2d diagonal array:\n",
            " [[ 0  5 10 15]\n",
            " [16 21 26 31]\n",
            " [32 37 42 47]]\n"
          ],
          "name": "stdout"
        }
      ]
    },
    {
      "cell_type": "markdown",
      "metadata": {
        "id": "mGP4HH6VuSWD"
      },
      "source": [
        "##### Flatten a Matrix in Python using NumPy"
      ]
    },
    {
      "cell_type": "code",
      "metadata": {
        "colab": {
          "base_uri": "https://localhost:8080/"
        },
        "id": "FFVNypSzn5zF",
        "outputId": "f466d8ac-27fe-44d7-b999-ced867c9a199"
      },
      "source": [
        "import numpy as np\n",
        "  \n",
        "gfg = np.array([[2, 3], [4, 5]])\n",
        "\n",
        "print(gfg.flatten())"
      ],
      "execution_count": null,
      "outputs": [
        {
          "output_type": "stream",
          "text": [
            "[2 3 4 5]\n"
          ],
          "name": "stdout"
        }
      ]
    },
    {
      "cell_type": "markdown",
      "metadata": {
        "id": "b1TbxPUVuT23"
      },
      "source": [
        "##### Flatten a 2d numpy array into 1d array"
      ]
    },
    {
      "cell_type": "code",
      "metadata": {
        "colab": {
          "base_uri": "https://localhost:8080/"
        },
        "id": "gCgpK1UCoOb_",
        "outputId": "adc0c2f6-8cac-4b61-dbff-1e05365fd55b"
      },
      "source": [
        "import numpy as np\n",
        "  \n",
        "array = np.array([[1, 2, 3], [2, 4, 5], [1, 2, 3]])\n",
        "  \n",
        "print(\"Initial array:\\n\", str(array))\n",
        "\n",
        "result = array.flatten()\n",
        "  \n",
        "print(\"\\nNew resulting array: \", result)"
      ],
      "execution_count": null,
      "outputs": [
        {
          "output_type": "stream",
          "text": [
            "Initial array:\n",
            " [[1 2 3]\n",
            " [2 4 5]\n",
            " [1 2 3]]\n",
            "\n",
            "New resulting array:  [1 2 3 2 4 5 1 2 3]\n"
          ],
          "name": "stdout"
        }
      ]
    },
    {
      "cell_type": "markdown",
      "metadata": {
        "id": "ZYU6sgmruU5_"
      },
      "source": [
        "##### Move axes of an array to new positions"
      ]
    },
    {
      "cell_type": "code",
      "metadata": {
        "colab": {
          "base_uri": "https://localhost:8080/"
        },
        "id": "SdO3qHrLoe4f",
        "outputId": "6d530750-6b03-4826-e8ff-25dbf0518ec7"
      },
      "source": [
        "import numpy as np\n",
        "\n",
        "x = np.zeros((2, 3, 4))\n",
        "print(\"Initial array: \\n\", x)\n",
        "\n",
        "print(\"\\nAfter new position:\")\n",
        "print(np.moveaxis(x, 0, -1).shape)\n",
        "print(np.moveaxis(x, -1, 0).shape)\n"
      ],
      "execution_count": null,
      "outputs": [
        {
          "output_type": "stream",
          "text": [
            "Initial array: \n",
            " [[[0. 0. 0. 0.]\n",
            "  [0. 0. 0. 0.]\n",
            "  [0. 0. 0. 0.]]\n",
            "\n",
            " [[0. 0. 0. 0.]\n",
            "  [0. 0. 0. 0.]\n",
            "  [0. 0. 0. 0.]]]\n",
            "\n",
            "After new position:\n",
            "(3, 4, 2)\n",
            "(4, 2, 3)\n"
          ],
          "name": "stdout"
        }
      ]
    },
    {
      "cell_type": "markdown",
      "metadata": {
        "id": "vaHvJOdtuW07"
      },
      "source": [
        "#####\n",
        "\n",
        "```\n",
        "# This is formatted as code\n",
        "```\n",
        "\n",
        " Interchange two axes of an array"
      ]
    },
    {
      "cell_type": "code",
      "metadata": {
        "id": "kSuDZJo08p4Z"
      },
      "source": [
        ""
      ],
      "execution_count": null,
      "outputs": []
    },
    {
      "cell_type": "markdown",
      "metadata": {
        "id": "MULys7d6uX79"
      },
      "source": [
        "##### NumPy – Fibonacci Series using Binet Formula"
      ]
    },
    {
      "cell_type": "code",
      "metadata": {
        "colab": {
          "base_uri": "https://localhost:8080/"
        },
        "id": "jqaV0wZP8qYx",
        "outputId": "63b84e87-598c-4287-c896-5b6852d392cb"
      },
      "source": [
        "import numpy as np\n",
        "\n",
        "a = np.arange(1, 11)\n",
        "lengthA = len(a)\n",
        "\n",
        "sqrtFive = np.sqrt(5)\n",
        "alpha = (1 + sqrtFive) / 2\n",
        "beta = (1 - sqrtFive) / 2\n",
        "\n",
        "Fn = np.rint(((alpha ** a) - (beta ** a)) / (sqrtFive))\n",
        "print(\"The first {} numbers of Fibonacci series are {} . \".format(lengthA, Fn))\n"
      ],
      "execution_count": null,
      "outputs": [
        {
          "output_type": "stream",
          "text": [
            "The first 10 numbers of Fibonacci series are [ 1.  1.  2.  3.  5.  8. 13. 21. 34. 55.] . \n"
          ],
          "name": "stdout"
        }
      ]
    },
    {
      "cell_type": "markdown",
      "metadata": {
        "id": "SI_hAiI4uxvl"
      },
      "source": [
        "##### Counts the number of non-zero values in the array\n"
      ]
    },
    {
      "cell_type": "code",
      "metadata": {
        "colab": {
          "base_uri": "https://localhost:8080/"
        },
        "id": "S-vnUL9j8q5O",
        "outputId": "6bcef169-ffd1-486c-b00f-b4d06741c194"
      },
      "source": [
        "import numpy as geek\n",
        "\n",
        "array = [[0, 1, 2, 3, 0], [0, 5, 6, 0, 7], [0, 0, 12, 0, 76]]\n",
        "\n",
        "print (\"Non-zero values in array: \", geek.count_nonzero(array))"
      ],
      "execution_count": null,
      "outputs": [
        {
          "output_type": "stream",
          "text": [
            "Non-zero values in array:  8\n"
          ],
          "name": "stdout"
        }
      ]
    },
    {
      "cell_type": "markdown",
      "metadata": {
        "id": "5Wi_uWgpuZAI"
      },
      "source": [
        "##### Count the number of elements along a given axis"
      ]
    },
    {
      "cell_type": "code",
      "metadata": {
        "colab": {
          "base_uri": "https://localhost:8080/"
        },
        "id": "K2TgNCwk8rTo",
        "outputId": "7d1c7064-b647-475b-fe44-5024f533ebe4"
      },
      "source": [
        "import numpy as np\n",
        " \n",
        "array = np.array([[1, 2, 3, 4], [5, 6, 7, 8]])\n",
        " \n",
        "print(\"Number of elements: \",np.size(array))"
      ],
      "execution_count": null,
      "outputs": [
        {
          "output_type": "stream",
          "text": [
            "Number of elements:  8\n"
          ],
          "name": "stdout"
        }
      ]
    },
    {
      "cell_type": "markdown",
      "metadata": {
        "id": "LWydWywNuZ4V"
      },
      "source": [
        "##### Trim the leading and/or trailing zeros from a 1-D array"
      ]
    },
    {
      "cell_type": "code",
      "metadata": {
        "colab": {
          "base_uri": "https://localhost:8080/"
        },
        "id": "On5r85C28rtE",
        "outputId": "d8a94794-c993-4d14-db40-77900a81d941"
      },
      "source": [
        "import numpy as geek \n",
        "  \n",
        "gfg = geek.array((0, 0, 0, 0, 1, 5, 7, 0, 6, 2, 9, 0, 10, 0, 0))\n",
        "  \n",
        "print(\"Trailing zeros: \",geek.trim_zeros(gfg))"
      ],
      "execution_count": null,
      "outputs": [
        {
          "output_type": "stream",
          "text": [
            "Trailing zeros:  [ 1  5  7  0  6  2  9  0 10]\n"
          ],
          "name": "stdout"
        }
      ]
    },
    {
      "cell_type": "markdown",
      "metadata": {
        "id": "ucTdJ72ZualR"
      },
      "source": [
        "##### Change data type of given numpy array"
      ]
    },
    {
      "cell_type": "code",
      "metadata": {
        "colab": {
          "base_uri": "https://localhost:8080/"
        },
        "id": "WEh37XrX8sMY",
        "outputId": "eff9f2a8-5684-450d-94d0-119b117500e8"
      },
      "source": [
        "import numpy as np\n",
        "\n",
        "array = np.array([10, 20, 30, 40, 50])\n",
        "print(\"Initial array: \",array)\n",
        "\n",
        "print(\"\\nArray initial type: \",array.dtype)\n",
        "\n",
        "array = array.astype('float64')\n",
        "print(\"\\nArray after change type: \",array)\n",
        "  \n",
        "print(\"\\nArray type after change\",array.dtype)"
      ],
      "execution_count": null,
      "outputs": [
        {
          "output_type": "stream",
          "text": [
            "Initial array:  [10 20 30 40 50]\n",
            "\n",
            "Array initial type:  int64\n",
            "\n",
            "Array after change type:  [10. 20. 30. 40. 50.]\n",
            "\n",
            "Array type after change float64\n"
          ],
          "name": "stdout"
        }
      ]
    },
    {
      "cell_type": "markdown",
      "metadata": {
        "id": "xgPnD0MVubWR"
      },
      "source": [
        "##### Reverse a numpy array"
      ]
    },
    {
      "cell_type": "code",
      "metadata": {
        "colab": {
          "base_uri": "https://localhost:8080/"
        },
        "id": "2COZo2QD8snq",
        "outputId": "3cacb2ed-2b3e-4224-c929-e1cc43c02f9d"
      },
      "source": [
        "import numpy as np\n",
        "\n",
        "array = np.array([1, 2, 3, 6, 4, 5])\n",
        "\n",
        "print(\"Initial array: \", str(array))\n",
        "\n",
        "print(\"\\nArray type: \", type(array))\n",
        "\n",
        "res = array[::-1]\n",
        "\n",
        "print(\"\\nFinal array\", str(res))\n"
      ],
      "execution_count": null,
      "outputs": [
        {
          "output_type": "stream",
          "text": [
            "Initial array:  [1 2 3 6 4 5]\n",
            "\n",
            "Array type:  <class 'numpy.ndarray'>\n",
            "\n",
            "Final array [5 4 6 3 2 1]\n"
          ],
          "name": "stdout"
        }
      ]
    },
    {
      "cell_type": "markdown",
      "metadata": {
        "id": "ETjpwG5fuxWB"
      },
      "source": [
        "##### How to make a NumPy array read-only?"
      ]
    },
    {
      "cell_type": "code",
      "metadata": {
        "id": "xMk_PxunS3tc",
        "colab": {
          "base_uri": "https://localhost:8080/"
        },
        "outputId": "575db7eb-4049-4b82-ca85-057f4cbc5249"
      },
      "source": [
        "import numpy as np\n",
        "  \n",
        "a = np.zeros(11)\n",
        "print(\"Before any change \")\n",
        "print(a)\n",
        "  \n",
        "a[1] = 2\n",
        "print(\"Before after first change \")\n",
        "print(a)\n",
        "  \n",
        "a.flags.writeable = False\n",
        "# a[1] = 7"
      ],
      "execution_count": null,
      "outputs": [
        {
          "output_type": "stream",
          "text": [
            "Before any change \n",
            "[0. 0. 0. 0. 0. 0. 0. 0. 0. 0. 0.]\n",
            "Before after first change \n",
            "[0. 2. 0. 0. 0. 0. 0. 0. 0. 0. 0.]\n"
          ],
          "name": "stdout"
        }
      ]
    },
    {
      "cell_type": "markdown",
      "metadata": {
        "id": "RfGEiFRkfltk"
      },
      "source": [
        "#  Questions on NumPy Matrix"
      ]
    },
    {
      "cell_type": "markdown",
      "metadata": {
        "id": "wPOhtIYOgMAA"
      },
      "source": [
        "##### Get the maximum value from given matrix\n"
      ]
    },
    {
      "cell_type": "code",
      "metadata": {
        "id": "4ciYK_I6nsyX"
      },
      "source": [
        "import numpy as np\n",
        "\n",
        "x = np.matrix(np.arange(12).reshape((3,4))); \n",
        "print(\"Initial matrix: \\n\", x)\n",
        "\n",
        "print(\"\\nMaximum value: \", x.max())"
      ],
      "execution_count": null,
      "outputs": []
    },
    {
      "cell_type": "markdown",
      "metadata": {
        "id": "uWMTlKhHgPgw"
      },
      "source": [
        "##### Get the minimum value from given matrix\n"
      ]
    },
    {
      "cell_type": "code",
      "metadata": {
        "id": "BcwMm8thoks5"
      },
      "source": [
        "import numpy as np\n",
        "\n",
        "x = np.matrix(np.arange(12).reshape((3,4))); \n",
        "print(\"Initial matrix: \\n\", x)\n",
        "\n",
        "print(\"\\nMinimum value: \", x.min())"
      ],
      "execution_count": null,
      "outputs": []
    },
    {
      "cell_type": "markdown",
      "metadata": {
        "id": "DEQ-cLKigVql"
      },
      "source": [
        "##### Find the number of rows and columns of a given matrix using NumPy\n"
      ]
    },
    {
      "cell_type": "code",
      "metadata": {
        "id": "jgiwEYpxpaNN"
      },
      "source": [
        "import numpy as np\n",
        "    \n",
        "matrix = np.matrix(np.arange(9).reshape((3, 3)))\n",
        "  \n",
        "# Original matrix\n",
        "print(\"Initial matrix: \\n\", matrix)\n",
        "  \n",
        "# Number of rows and columns of the said matrix\n",
        "print(\"\\nNumber of rows and colums: \",matrix.shape)"
      ],
      "execution_count": null,
      "outputs": []
    },
    {
      "cell_type": "markdown",
      "metadata": {
        "id": "3TtMu0iJgYBD"
      },
      "source": [
        "##### Select the elements from a given matrix\n"
      ]
    },
    {
      "cell_type": "code",
      "metadata": {
        "id": "bEwqBx5bqhXF"
      },
      "source": [
        "import numpy as np\n",
        "\n",
        "matrix = np.matrix(np.arange(9).reshape(3,3))\n",
        "\n",
        "# x = np.arange(10)\n",
        "print(\"Initial matrix: \", matrix )\n",
        "\n",
        "condlist = [matrix<3, matrix>5]\n",
        "choicelist = [matrix,matrix]\n",
        "\n",
        "print(\"\\nElements selected: \\n\",np.select(condlist, choicelist))\n"
      ],
      "execution_count": null,
      "outputs": []
    },
    {
      "cell_type": "markdown",
      "metadata": {
        "id": "g6TD6LJfgaKN"
      },
      "source": [
        "##### Find the sum of values in a matrix\n"
      ]
    },
    {
      "cell_type": "code",
      "metadata": {
        "id": "RbkFpnMS03zt"
      },
      "source": [
        "import numpy as np\n",
        "\n",
        "x = np.matrix([[1, 2], [4, 3]])\n",
        "x.sum() "
      ],
      "execution_count": null,
      "outputs": []
    },
    {
      "cell_type": "markdown",
      "metadata": {
        "id": "u6KnLufsgcAB"
      },
      "source": [
        "##### Calculate the sum of the diagonal elements of a NumPy array\n"
      ]
    },
    {
      "cell_type": "code",
      "metadata": {
        "id": "PR0euNv_7z-E"
      },
      "source": [
        "import numpy as np\n",
        "\n",
        "array = np.array([[55, 25, 15],\n",
        "\t\t\t\t\t[30, 44, 2],\n",
        "\t\t\t\t\t[11, 45, 77]])\n",
        "\n",
        "print(\"Matrix initial:\\n\", array)\n",
        "\n",
        "trace = np.trace(array)\n",
        "print(\"\\nTrace of given 3X3 matrix: \", trace)\n"
      ],
      "execution_count": null,
      "outputs": []
    },
    {
      "cell_type": "markdown",
      "metadata": {
        "id": "Hr1GbW6OgeoX"
      },
      "source": [
        "##### Adding and Subtracting Matrices in Python\n"
      ]
    },
    {
      "cell_type": "code",
      "metadata": {
        "id": "9htaBOIR826K"
      },
      "source": [
        "import numpy as np\n",
        "\n",
        "\n",
        "matrix_1 = np.matrix([[3, 4], [1, 2]])\n",
        "matrix_2 = np.matrix([[6, 7], [4, 5]])\n",
        "\n",
        "print(\"First matrix: \\n\", matrix_1)\n",
        "print(\"\\nPrinting elements of second matrix: \\n\", matrix_2)\n",
        "\n",
        "print(\"\\nAddition of two matrix: \")\n",
        "print(np.add(matrix_1, matrix_2))\n",
        "\n",
        "print(\"\\nSubtractinf of two matrix: \\n\")\n",
        "print(np.subtract(matrix_2, matrix_1))"
      ],
      "execution_count": null,
      "outputs": []
    },
    {
      "cell_type": "markdown",
      "metadata": {
        "id": "H0DMGO77ghHz"
      },
      "source": [
        "##### Ways to add row/columns in numpy array\n"
      ]
    },
    {
      "cell_type": "code",
      "metadata": {
        "id": "DmWL8JNbgCMJ"
      },
      "source": [
        "import numpy as np\n",
        "\n",
        "array = np.array([[1,2],[3,4]])\n",
        "print(\"Initial array: \\n\",array)\n",
        "\n",
        "new_column = [[3], [6]]\n",
        "array = np.append(array, new_column, axis=1)\n",
        "print(\"\\nArray with added row/column:\\n\", array)"
      ],
      "execution_count": null,
      "outputs": []
    },
    {
      "cell_type": "markdown",
      "metadata": {
        "id": "1CRtpboKgjoj"
      },
      "source": [
        "##### Matrix Multiplication in NumPy\n"
      ]
    },
    {
      "cell_type": "code",
      "metadata": {
        "id": "9ndioKncibBR"
      },
      "source": [
        "import numpy as np\n",
        "\n",
        "matrix_1 = np.matrix(np.arange(4).reshape((2,2)))\n",
        "matrix_2 = np.matrix(np.arange(4).reshape((2,2)))\n",
        "\n",
        "print(\"Matrix_1: \\n\", matrix_1)\n",
        "print(\"\\nMatrix_2: \\n\", matrix_2)\n",
        "\n",
        "multiply = np.multiply(matrix_1, matrix_2)\n",
        "print(\"\\nMultiply matrix: \\n\", multiply)"
      ],
      "execution_count": null,
      "outputs": []
    },
    {
      "cell_type": "markdown",
      "metadata": {
        "id": "U2BCu1h4gkhT"
      },
      "source": [
        "##### Get the eigen values of a matrix\n"
      ]
    },
    {
      "cell_type": "code",
      "metadata": {
        "id": "izanamwVk1kZ"
      },
      "source": [
        "import numpy as np\n",
        "  \n",
        "m = np.matrix(np.arange(4).reshape((2,2)))\n",
        "  \n",
        "print(\"Initial Matrix:\\n\",m)\n",
        "  \n",
        "w, v= np.linalg.eig(m)\n",
        "print(\"\\nEigenvalues:\\n\",w)\n",
        "print(\"\\nEigenvectors: \\n\", v)\n"
      ],
      "execution_count": null,
      "outputs": []
    },
    {
      "cell_type": "markdown",
      "metadata": {
        "id": "3Et7oEyRgmK_"
      },
      "source": [
        "##### How to Calculate the determinant of a matrix using NumPy?\n"
      ]
    },
    {
      "cell_type": "code",
      "metadata": {
        "id": "TS718vzqmv7e"
      },
      "source": [
        "import numpy as np\n",
        "\n",
        "matrix = np.matrix([[50, 29], [30, 44]])\n",
        "  \n",
        "print(\"Initial matrix: \\n\", matrix)\n",
        "\n",
        "det = np.linalg.det(matrix)\n",
        "  \n",
        "print(\"\\nDeterminant of matrix: \\n\", int(det))"
      ],
      "execution_count": null,
      "outputs": []
    },
    {
      "cell_type": "markdown",
      "metadata": {
        "id": "3Z3YV8UpgrAT"
      },
      "source": [
        "##### How to inverse a matrix using NumPy\n"
      ]
    },
    {
      "cell_type": "code",
      "metadata": {
        "id": "wVmVJDGWn10z"
      },
      "source": [
        "import numpy as np\n",
        "\n",
        "matrix_1 = np.array([[6, 1, 1],\n",
        "\t\t\t[4, -2, 5],\n",
        "\t\t\t[2, 8, 7]])\n",
        "print(\"Initial Matrix 1: \\n\", matrix_1)\n",
        "print(\"\\nInverse Matrix 1\\n\", np.linalg.inv(matrix_1))\n",
        "\n",
        "\n",
        "matrix_2 = np.matrix(np.arange(4).reshape((2,2)))\n",
        "print(\"\\n\\nInitial Matrix 2: \\n\", matrix_2)\n",
        "print(\"\\nInverse Matrix 2\\n\", np.linalg.inv(matrix_2))\n"
      ],
      "execution_count": null,
      "outputs": []
    },
    {
      "cell_type": "markdown",
      "metadata": {
        "id": "iUDaCoypgsC1"
      },
      "source": [
        "##### How to count the frequency of unique values in NumPy array?\n"
      ]
    },
    {
      "cell_type": "code",
      "metadata": {
        "id": "MiKc6IstC5ie"
      },
      "source": [
        "import numpy as np\n",
        "\n",
        "array = np.array([1, 1, 2, 3, 4, 4, 1])\n",
        "print(\"Initial array: \", array)\n",
        "\n",
        "(unique, counts) = np.unique(array, return_counts=True)\n",
        "frequencies = np.asarray((unique, counts)).T\n",
        "\n",
        "print(\"\\nFrequencies: \\n\",frequencies)"
      ],
      "execution_count": null,
      "outputs": []
    },
    {
      "cell_type": "markdown",
      "metadata": {
        "id": "vlp5zcoggs4T"
      },
      "source": [
        "##### Multiply matrices of complex numbers using NumPy in Python\n"
      ]
    },
    {
      "cell_type": "code",
      "metadata": {
        "id": "nZxRhG4yC6GC"
      },
      "source": [
        "import numpy as np\n",
        "\n",
        "matrix_1 = np.matrix([2+3j, 4+5j])\n",
        "print(\"First matrix:\\n\",matrix_1)\n",
        "\n",
        "matrix_2 = np.matrix([8+7j, 5+6j])\n",
        "print(\"\\nSecond matrix:\\n\", matrix_2)\n",
        "\n",
        "multiply = np.vdot(matrix_1, matrix_2)\n",
        "print(\"\\nMultiply matrices:\\n\", multiply)\n"
      ],
      "execution_count": null,
      "outputs": []
    },
    {
      "cell_type": "markdown",
      "metadata": {
        "id": "XKzMoVN4gt4Z"
      },
      "source": [
        "##### Compute the outer product of two given vectors using NumPy in Python\n"
      ]
    },
    {
      "cell_type": "code",
      "metadata": {
        "id": "rA9ltqmyC6jf"
      },
      "source": [
        "import numpy as np\n",
        "\n",
        "array1 = np.array([6,2])\n",
        "array2 = np.array([2,5])\n",
        "print(\"Array 1:\\n\", array1, \"\\nArray 2:\\n\", array2)\n",
        "\n",
        "print(\"\\nOuter Product of the two array:\")\n",
        "result = np.outer(array1, array2)\n",
        "print(result)\n"
      ],
      "execution_count": null,
      "outputs": []
    },
    {
      "cell_type": "markdown",
      "metadata": {
        "id": "ED-WaHI5guvb"
      },
      "source": [
        "##### Calculate inner, outer, and cross products of matrices and vectors using NumPy\n"
      ]
    },
    {
      "cell_type": "code",
      "metadata": {
        "id": "UAWAtZrXC696"
      },
      "source": [
        "import numpy as np\n",
        "\n",
        "array1 = np.array([2, 6])\n",
        "array2 = np.array([3, 10])\n",
        "\n",
        "print(\"Array1: \", array1)\n",
        "print(\"\\nArray2: \", array2)\n",
        "print(\"\\nInner: \", np.inner(array1, array2))\n",
        "print(\"\\nOuter: \\n\", np.outer(array1, array2))\n",
        "print(\"\\nCross: \", np.cross(array1, array2))\n",
        "\n",
        "print(\"\\n\\n=============\")\n",
        "\n",
        "matrix1 = np.array([[2, 3, 4], [3, 2, 9]])\n",
        "matrix2 = np.array([[1, 5, 0], [5, 10, 3]])\n",
        "\n",
        "print(\"\\n\\nMatrix1: \\n\", matrix1)\n",
        "print(\"\\nMatrix2: \\n\", matrix2)\n",
        "print(\"\\nInner: \\n\", np.inner(matrix1, matrix2))\n",
        "print(\"\\nOuter: \\n\", np.outer(matrix1, matrix2))\n",
        "print(\"\\nCross: \\n\", np.cross(matrix1, matrix2))\n",
        "\n"
      ],
      "execution_count": null,
      "outputs": []
    },
    {
      "cell_type": "markdown",
      "metadata": {
        "id": "_L3qS5Qtgv3f"
      },
      "source": [
        "##### Compute the covariance matrix of two given NumPy arrays\n"
      ]
    },
    {
      "cell_type": "code",
      "metadata": {
        "id": "4z7-XOx0C7az"
      },
      "source": [
        "import numpy as np\n",
        "\n",
        "array1 = np.array([0, 1, 1])\n",
        "array2 = np.array([2, 2, 1])\n",
        "\n",
        "print(\"Array1: \", array1)\n",
        "print(\"\\nArray2: \", array2)\n",
        "\n",
        "\n",
        "print(\"\\nCovariance matrix:\\n\",\tnp.cov(array1, array2)) \n"
      ],
      "execution_count": null,
      "outputs": []
    },
    {
      "cell_type": "markdown",
      "metadata": {
        "id": "kH3_ETkOgwp5"
      },
      "source": [
        "##### Convert covariance matrix to correlation matrix using Python\n"
      ]
    },
    {
      "cell_type": "code",
      "metadata": {
        "id": "80x1uuZMC7z-"
      },
      "source": [
        "import numpy as np\n",
        "\n",
        "def correlation_from_covariance(covariance):\n",
        "    v = np.sqrt(np.diag(covariance))\n",
        "    outer_v = np.outer(v, v)\n",
        "    correlation = covariance / outer_v\n",
        "    correlation[covariance == 0] = 0\n",
        "    return correlation"
      ],
      "execution_count": null,
      "outputs": []
    },
    {
      "cell_type": "markdown",
      "metadata": {
        "id": "IhBF7CSbgx9q"
      },
      "source": [
        "##### Compute the Kronecker product of two mulitdimension NumPy arrays\n"
      ]
    },
    {
      "cell_type": "code",
      "metadata": {
        "id": "kQxqXq16C8PA"
      },
      "source": [
        "import numpy as np\n",
        "\n",
        "array1 = np.array([[1, 2], [3, 4]])\n",
        "print('Array1:\\n', array1)\n",
        "\n",
        "array2 = np.array([[5, 6], [7, 8]])\n",
        "print('\\nArray2:\\n', array2)\n",
        "\n",
        "kroneckerProduct = np.kron(array1, array2)\n",
        "print('\\nArray1 x Array2:')\n",
        "print(kroneckerProduct)\n"
      ],
      "execution_count": null,
      "outputs": []
    },
    {
      "cell_type": "markdown",
      "metadata": {
        "id": "XGrdGFdXgzDB"
      },
      "source": [
        "##### Convert the matrix into a list"
      ]
    },
    {
      "cell_type": "code",
      "metadata": {
        "id": "efqssRefC8oc"
      },
      "source": [
        "import numpy as np\n",
        "matrix = np.matrix(np.arange(9).reshape((3,3)))\n",
        "\n",
        "print(matrix.tolist())"
      ],
      "execution_count": null,
      "outputs": []
    },
    {
      "cell_type": "markdown",
      "metadata": {
        "id": "C71sCoEDp22h"
      },
      "source": [
        "# Questions on NumPy Indexing"
      ]
    },
    {
      "cell_type": "markdown",
      "metadata": {
        "id": "SOfsUN1bp6Xc"
      },
      "source": [
        "##### Replace NumPy array elements that doesn’t satisfy the given condition\n"
      ]
    },
    {
      "cell_type": "code",
      "metadata": {
        "id": "RWKVb7LhyUgi"
      },
      "source": [
        "import numpy as np\n",
        "\n",
        "array = np.array([1, 4, 5, 26, 10, 0])\n",
        "\n",
        "print(\"Initial array:\\n\", array)\n",
        "\n",
        "print(\"\\nReplace all elements of array which are greater than 5 to 30\")\n",
        "array[array > 5] = 30\n",
        "\n",
        "print(\"\\nNew array :\\n\", array)\n"
      ],
      "execution_count": null,
      "outputs": []
    },
    {
      "cell_type": "markdown",
      "metadata": {
        "id": "mry0RE9Wp-oC"
      },
      "source": [
        "##### Return the indices of elements where the given condition is satisfied\n"
      ]
    },
    {
      "cell_type": "code",
      "metadata": {
        "id": "g9QeADdy6Pi8"
      },
      "source": [
        "import numpy as np\n",
        "  \n",
        "array = np.array([[2, 3, 4], [5, 8, 10]])\n",
        "\n",
        "print('Initial array:\\n',array)\n",
        "  \n",
        "elements = np.where(array < 5)\n",
        "\n",
        "print ('\\nIndices of elements < 5:\\n', elements )\n",
        "print(\"\\nElements which are < 5: \\n\", array[elements])"
      ],
      "execution_count": null,
      "outputs": []
    },
    {
      "cell_type": "markdown",
      "metadata": {
        "id": "r6qNry0mp_w8"
      },
      "source": [
        "##### Replace NaN values with average of columns\n"
      ]
    },
    {
      "cell_type": "code",
      "metadata": {
        "id": "pabIQHXC6P5C"
      },
      "source": [
        "import numpy as np\n",
        "  \n",
        "ini_array = np.array([[1.3, 2.5, 3.6, np.nan], \n",
        "                      [2.6, 3.3, np.nan, 5.5],\n",
        "                      [2.1, 3.2, 5.4, 6.5]])\n",
        "  \n",
        "print (\"Initial array:\\n\", ini_array)\n",
        "  \n",
        "col_mean = np.nanmean(ini_array, axis = 0)\n",
        "  \n",
        "print (\"\\nColumns mean: \", str(col_mean))\n",
        "  \n",
        "inds = np.where(np.isnan(ini_array))\n",
        "  \n",
        "ini_array[inds] = np.take(col_mean, inds[1])\n",
        "print (\"\\nFinal array: \\n\", ini_array)"
      ],
      "execution_count": null,
      "outputs": []
    },
    {
      "cell_type": "markdown",
      "metadata": {
        "id": "TCgT-OViqAqS"
      },
      "source": [
        "##### Replace negative value with zero in numpy array\n"
      ]
    },
    {
      "cell_type": "code",
      "metadata": {
        "id": "quJFdyo86S3n"
      },
      "source": [
        "import numpy as np\n",
        "\n",
        "array = np.array([1, 2, -3, 4, -5, -6])\n",
        "\n",
        "print(\"Initial array\", array)\n",
        "\n",
        "array[array<0] = 0\n",
        "\n",
        "print(\"\\nNew array: \", array)\n"
      ],
      "execution_count": null,
      "outputs": []
    },
    {
      "cell_type": "markdown",
      "metadata": {
        "id": "ACuO9olbqBsE"
      },
      "source": [
        "##### How to get values of an NumPy array at certain index positions?\n"
      ]
    },
    {
      "cell_type": "code",
      "metadata": {
        "id": "brqrIKrk6TzQ"
      },
      "source": [
        "import numpy as np\n",
        "\n",
        "array1 = np.array([11, 10, 22, 30, 33])\n",
        "print(\"Array 1:\\n\", array1)\n",
        "\n",
        "array2 = np.array([1, 15, 60])\n",
        "print(\"Array 2: \\n\", array2)\n",
        "\n",
        "print(\"\\nTake 1 and 15 from Array 2 and put them inst and 5th position of Array 1\")\n",
        "\n",
        "array1.put([0, 4], array2)\n",
        "\n",
        "print(\"\\nArray :\", array1)\n"
      ],
      "execution_count": null,
      "outputs": []
    },
    {
      "cell_type": "markdown",
      "metadata": {
        "id": "lcG4GJO3qCmp"
      },
      "source": [
        "##### Find indices of elements equal to zero in a NumPy array\n"
      ]
    },
    {
      "cell_type": "code",
      "metadata": {
        "id": "vgjFdcAf6VFW"
      },
      "source": [
        "import numpy as np\n",
        "\n",
        "array = np.array([1, 0, 2, 0, 3, 0, 0, 5, 6, 7, 5, 0, 8])\n",
        "\n",
        "print(\"Initial array:\\n\", array)\n",
        "\n",
        "res = np.where(array == 0)[0]\n",
        "print(\"\\nIndices of elements equal to zero: \", res)\n"
      ],
      "execution_count": null,
      "outputs": []
    },
    {
      "cell_type": "markdown",
      "metadata": {
        "id": "0UwNIluzqD-b"
      },
      "source": [
        "##### How to Remove columns in Numpy array that contains non-numeric values?\n"
      ]
    },
    {
      "cell_type": "code",
      "metadata": {
        "id": "NFfUgwIK6WD-"
      },
      "source": [
        "import numpy as np\n",
        "\n",
        "array = np.array([[10.5, 22.5, np.nan], [41, 52.5, np.nan]])\n",
        "\n",
        "print(\"Initial array: \\n\", array)\n",
        "\n",
        "print(\"\\nRemove all columns containing non-numeric elements \")\n",
        "print(array[:, ~np.isnan(array).any(axis=0)])\n"
      ],
      "execution_count": null,
      "outputs": []
    },
    {
      "cell_type": "markdown",
      "metadata": {
        "id": "264xSI-NqEzJ"
      },
      "source": [
        "##### How to access different rows of a multidimensional NumPy array?\n"
      ]
    },
    {
      "cell_type": "code",
      "metadata": {
        "id": "1fbItXmT6W2e"
      },
      "source": [
        "import numpy as np\n",
        "\n",
        "array = np.array([[10, 20, 30],[40, 5, 66],[70, 88, 94]])\n",
        "\n",
        "print(\"Given Array :\", array)\n",
        "\n",
        "# Access the First and Last rows of array\n",
        "res_arr = arr[[0,2]]\n",
        "print(\"\\nAccessed Rows :\")\n",
        "print(res_arr)\n"
      ],
      "execution_count": null,
      "outputs": []
    },
    {
      "cell_type": "markdown",
      "metadata": {
        "id": "OmguMnwwqFsv"
      },
      "source": [
        "##### Get row numbers of NumPy array having element larger than X\n"
      ]
    },
    {
      "cell_type": "code",
      "metadata": {
        "id": "igeOvRG36YBM"
      },
      "source": [
        "import numpy as np\n",
        "\n",
        "array = np.array([[1, 2, 3, 4, 5],\n",
        "\t\t\t\t[10, -3, 30, 4, 5],\n",
        "\t\t\t\t[3, 2, 5, -4, 5],\n",
        "\t\t\t\t[9, 7, 3, 6, 5]])\n",
        "\n",
        "X = 6\n",
        "\n",
        "print(\"Initial Array:\\n\", array)\n",
        "\n",
        "output = np.where(np.any(array > X, axis = 1))\n",
        "\n",
        "print(\"\\nResult:\\n\", output)\n"
      ],
      "execution_count": null,
      "outputs": []
    },
    {
      "cell_type": "markdown",
      "metadata": {
        "id": "4DJEb_uYqMdr"
      },
      "source": [
        "##### Get filled the diagonals of NumPy array\n"
      ]
    },
    {
      "cell_type": "code",
      "metadata": {
        "id": "zN-F18q96Yxp"
      },
      "source": [
        "import numpy as np\n",
        "\n",
        "array = np.zeros((3, 3), int)\n",
        "print(\"Initial array:\\n\", array)\n",
        "\n",
        "np.fill_diagonal(array, 2)\n",
        "print(\"\\nFinal array:\\n\",array)\n"
      ],
      "execution_count": null,
      "outputs": []
    },
    {
      "cell_type": "markdown",
      "metadata": {
        "id": "UV9RqrvKqNV0"
      },
      "source": [
        "##### Check elements present in the NumPy array\n",
        "\n"
      ]
    },
    {
      "cell_type": "code",
      "metadata": {
        "id": "19DQxl9K6Z7e"
      },
      "source": [
        "import numpy as np\n",
        "\n",
        "array = np.array([[2, 3, 0],[4, 1, 6]])\n",
        "\n",
        "print(\"Initial array:\", array)\n",
        "\n",
        "print(\"\\n2 in array? \",2 in array)\n",
        "print(\"\\n0 in array? \",0 in array)\n",
        "print(\"\\n6 in array? \",6 in array)\n",
        "print(\"\\n50 in array? \",50 in array)\n",
        "print(\"\\n10 in array? \",10 in array)\n"
      ],
      "execution_count": null,
      "outputs": []
    },
    {
      "cell_type": "markdown",
      "metadata": {
        "id": "lC3swNXMqODT"
      },
      "source": [
        "##### Combined array index by index "
      ]
    },
    {
      "cell_type": "code",
      "metadata": {
        "id": "smGkj6qhp4iw"
      },
      "source": [
        "import numpy as np\n",
        " \n",
        "array1 = np.array([1, 2, 3, 4, 5, 6]) \n",
        "print(\"Array 1: \", array1)\n",
        "array2 = np.array([10, 9, 8, 7, 6, 5])\n",
        "print(\"\\nArray 2: \", array2)\n",
        " \n",
        "print(\"\\nCombinated arrays: \",array1*array2)"
      ],
      "execution_count": null,
      "outputs": []
    },
    {
      "cell_type": "markdown",
      "metadata": {
        "id": "NEnlpxlENWx0"
      },
      "source": [
        "# Questions on NumPy Linear Algebra"
      ]
    },
    {
      "cell_type": "markdown",
      "metadata": {
        "id": "fWmHjUkxNxRd"
      },
      "source": [
        "##### Find a matrix or vector norm using NumPy\n"
      ]
    },
    {
      "cell_type": "code",
      "metadata": {
        "id": "4yceftadNzm3"
      },
      "source": [
        "import numpy as np\n",
        " \n",
        "array = np.arange(10)\n",
        "print(\"Initial array: \", array)\n",
        "\n",
        "vec_norm = np.linalg.norm(array) \n",
        "print(\"\\nVector norm: \", vec_norm)\n"
      ],
      "execution_count": null,
      "outputs": []
    },
    {
      "cell_type": "markdown",
      "metadata": {
        "id": "xD_ltD_vNz2t"
      },
      "source": [
        "##### Calculate the QR decomposition of a given matrix using NumPy\n"
      ]
    },
    {
      "cell_type": "code",
      "metadata": {
        "id": "PsFOzTBvN8iN"
      },
      "source": [
        "import numpy as np\n",
        "\n",
        "matrix1 = np.matrix([[1, 2, 3], [3, 4, 5]])\n",
        "print('Initial matrix: \\n',matrix1)\n",
        "\n",
        "q, r = np.linalg.qr(matrix1)\n",
        "print('\\nQ:\\n', q)\n",
        "print('\\nR:\\n', r)"
      ],
      "execution_count": null,
      "outputs": []
    },
    {
      "cell_type": "markdown",
      "metadata": {
        "id": "G49uW8FJN1ta"
      },
      "source": [
        "##### Compute the condition number of a given matrix using NumPy\n"
      ]
    },
    {
      "cell_type": "code",
      "metadata": {
        "id": "U0WNMO3HN-NO"
      },
      "source": [
        "import numpy as np\n",
        "  \n",
        "matrix = np.array([[4, 2], [3, 1]])\n",
        "  \n",
        "print(\"Original matrix:\\n\", matrix)\n",
        "  \n",
        "result =  np.linalg.cond(matrix)\n",
        "print(\"\\nCondition number of the matrix: \", result)"
      ],
      "execution_count": null,
      "outputs": []
    },
    {
      "cell_type": "markdown",
      "metadata": {
        "id": "XfYZad7GN3Am"
      },
      "source": [
        "##### Compute the eigenvalues and right eigenvectors of a given square array using NumPy?\n"
      ]
    },
    {
      "cell_type": "code",
      "metadata": {
        "id": "OPRrqTnIN-uQ"
      },
      "source": [
        "import numpy as np\n",
        "  \n",
        "m = np.array([[1, 2],\n",
        "              [2, 3]])\n",
        "  \n",
        "print(\"Initial array:\\n\", m)\n",
        "  \n",
        "w, v = np.linalg.eig(m)\n",
        "  \n",
        "print(\"\\nEigen values:\\n\",w)\n",
        "  \n",
        "print(\"\\nEigenvectors :\\n\",v)"
      ],
      "execution_count": null,
      "outputs": []
    },
    {
      "cell_type": "markdown",
      "metadata": {
        "id": "dGcImMIxN4KT"
      },
      "source": [
        "##### Calculate the Euclidean distance using NumPy"
      ]
    },
    {
      "cell_type": "code",
      "metadata": {
        "id": "oUnxFlv7N6Lj"
      },
      "source": [
        "import numpy as np\n",
        "\n",
        "array1 = np.array((1, 2, 3))\n",
        "array2 = np.array((1, 1, 1))\n",
        "\n",
        "print(\"Array 1: \", array1, \"\\nArray 2: \", array2)\n",
        "\n",
        "dist = np.linalg.norm(array1 - array2)\n",
        "print(\"\\nEuclidean distance: \",dist)"
      ],
      "execution_count": null,
      "outputs": []
    },
    {
      "cell_type": "markdown",
      "metadata": {
        "id": "M0OIcg2xNYPr"
      },
      "source": [
        "# Questions on NumPy Random"
      ]
    },
    {
      "cell_type": "markdown",
      "metadata": {
        "id": "PEjhRxosOD33"
      },
      "source": [
        "##### Create a Numpy array with random values\n"
      ]
    },
    {
      "cell_type": "code",
      "metadata": {
        "id": "mztI0AEMV5yM"
      },
      "source": [
        "import numpy as np\n",
        "\n",
        "array = np.random.randint(10,90,(4,5))\n",
        "print(\"Random array\\n\", array)\n"
      ],
      "execution_count": null,
      "outputs": []
    },
    {
      "cell_type": "markdown",
      "metadata": {
        "id": "-4G-AmNJOao_"
      },
      "source": [
        "##### How to choose elements from the list with different probability using NumPy?\n"
      ]
    },
    {
      "cell_type": "code",
      "metadata": {
        "id": "jG6Z2nKzV7Fs"
      },
      "source": [
        "import numpy as np\n",
        "\n",
        "array  = np.array([10, 20, 30, 40, 50])\n",
        "print(\"Initial array: \\n\", array)\n",
        "\n",
        "number = np.random.choice(num_list)\n",
        "print(\"\\nValue choice: \",number)\n"
      ],
      "execution_count": null,
      "outputs": []
    },
    {
      "cell_type": "markdown",
      "metadata": {
        "id": "3uzhNilnOcoF"
      },
      "source": [
        "##### How to get weighted random choice in Python?\n"
      ]
    },
    {
      "cell_type": "code",
      "metadata": {
        "id": "vvH47-ZQV8VX"
      },
      "source": [
        "import random\n",
        "  \n",
        "array = np.array([100, 200, 300, 400, 500])\n",
        "print(\"Initial array: \", array)\n",
        "\n",
        "randomList = random.choices(array, weights=(10, 20, 30, 40, 50), k=5)\n",
        "print(\"\\nRandom values: \",randomList)"
      ],
      "execution_count": null,
      "outputs": []
    },
    {
      "cell_type": "markdown",
      "metadata": {
        "id": "a2fAwrvpOd0t"
      },
      "source": [
        "##### Generate Random Numbers From The Uniform Distribution using NumPy\n"
      ]
    },
    {
      "cell_type": "code",
      "metadata": {
        "id": "3QpCUH9wV99C"
      },
      "source": [
        "import numpy as np\n",
        "  \n",
        "random_array = np.random.uniform(0.0, 1.0, 5)\n",
        "  \n",
        "print(\"Random values : \\n\", random_array)"
      ],
      "execution_count": null,
      "outputs": []
    },
    {
      "cell_type": "markdown",
      "metadata": {
        "id": "a0PMsInyOe67"
      },
      "source": [
        "##### Get Random Elements from geometric distribution\n"
      ]
    },
    {
      "cell_type": "code",
      "metadata": {
        "id": "vezkwyA0V_ev"
      },
      "source": [
        "import numpy as np\n",
        "\n",
        "z = np.random.geometric(p=0.35, size=10000)\n",
        "\n",
        "print(\"Geometric distribution : \\n\", z)"
      ],
      "execution_count": null,
      "outputs": []
    },
    {
      "cell_type": "markdown",
      "metadata": {
        "id": "sp_oj19GOiN9"
      },
      "source": [
        "##### Get Random elements from Laplace distribution\n"
      ]
    },
    {
      "cell_type": "code",
      "metadata": {
        "id": "VpSQ0o-UWBTm"
      },
      "source": [
        "import numpy as np\n",
        "import matplotlib.pyplot as plt\n",
        "  \n",
        "gfg = np.random.laplace(1.45, 15, 1000)\n",
        "  \n",
        "count, bins, ignored = plt.hist(gfg, 30, density = True)\n",
        "# print(\"Laplace distribution: \", gfg)\n",
        "plt.show()"
      ],
      "execution_count": null,
      "outputs": []
    },
    {
      "cell_type": "markdown",
      "metadata": {
        "id": "HiI6EtYvOjYd"
      },
      "source": [
        "##### Return a Matrix of random values from a uniform distribution\n"
      ]
    },
    {
      "cell_type": "code",
      "metadata": {
        "id": "hThDEI77WDHf"
      },
      "source": [
        "import matplotlib.pyplot as plt\n",
        "import numpy as np\n",
        "\n",
        "s = np.random.uniform(-1,0,1000)\n",
        "# print(\"Uniform distribution\\n\", s)\n",
        "\n",
        "count, bins, ignored = plt.hist(s, 15, density=True)\n",
        "plt.plot(bins, np.ones_like(bins), linewidth=2, color='r')\n",
        "plt.show()"
      ],
      "execution_count": null,
      "outputs": []
    },
    {
      "cell_type": "markdown",
      "metadata": {
        "id": "Z4NRyy-7Okjj"
      },
      "source": [
        "##### Return a Matrix of random values from a Gaussian distribution"
      ]
    },
    {
      "cell_type": "code",
      "metadata": {
        "id": "D8ltbebSWEQb"
      },
      "source": [
        "import matplotlib.pyplot as plt\n",
        "\n",
        "mu, sigma = 0, 0.1\n",
        "s = np.random.normal(mu, sigma, 1000)\n",
        "\n",
        "abs(mu - np.mean(s))\n",
        "# abs(sigma - np.std(s, ddof=1))\n",
        "\n",
        "count, bins, ignored = plt.hist(s, 30, density=True)\n",
        "plt.plot(bins, 1/(sigma * np.sqrt(2 * np.pi)) *\n",
        "               np.exp( - (bins - mu)**2 / (2 * sigma**2) ),\n",
        "         linewidth=2, color='r')\n",
        "plt.show()"
      ],
      "execution_count": null,
      "outputs": []
    },
    {
      "cell_type": "markdown",
      "metadata": {
        "id": "eKkp4c9INatK"
      },
      "source": [
        "# Questions on NumPy Sorting and Searching"
      ]
    },
    {
      "cell_type": "markdown",
      "metadata": {
        "id": "SNIzSVZiOnSq"
      },
      "source": [
        "##### How to get the indices of the sorted array using NumPy in Python?\n"
      ]
    },
    {
      "cell_type": "code",
      "metadata": {
        "id": "VqlBYPmdWFyd"
      },
      "source": [
        "import numpy as np\n",
        "  \n",
        "array = np.array([1, 2, 3, 4, 5])\n",
        "print(\"Initial array: \",array)\n",
        "\n",
        "indices = np.argsort(array)\n",
        "print(\"\\nIndices: \",indices)"
      ],
      "execution_count": null,
      "outputs": []
    },
    {
      "cell_type": "markdown",
      "metadata": {
        "id": "q39rB_T6OqNc"
      },
      "source": [
        "##### Finding the k smallest values of a NumPy array\n"
      ]
    },
    {
      "cell_type": "code",
      "metadata": {
        "id": "YGXy3DSYWGsn"
      },
      "source": [
        "import numpy as np\n",
        "  \n",
        "array = np.array([23, 12, 1, 3, 4, 5, 6])\n",
        "print(\"Initial Array: \", array)\n",
        "  \n",
        "k = 4\n",
        "print(\"\\nK value: \", k)  \n",
        "\n",
        "arr1 = np.sort(array)\n",
        "print(\"\\nSmallest elements of the array\", arr1[:k])"
      ],
      "execution_count": null,
      "outputs": []
    },
    {
      "cell_type": "markdown",
      "metadata": {
        "id": "JpXtsXo5OrMz"
      },
      "source": [
        "##### How to get the n-largest values of an array using NumPy?\n"
      ]
    },
    {
      "cell_type": "code",
      "metadata": {
        "id": "8kgOLAHOWH10"
      },
      "source": [
        "import numpy as np\n",
        "  \n",
        "array = np.array([2, 0,  1, 5, 4, 1, 9])\n",
        "  \n",
        "print(\"Initial array: \", array)\n",
        "\n",
        "sorted_index_array = np.argsort(array)\n",
        "  \n",
        "sorted_array = array[sorted_index_array]\n",
        "print(\"\\nSorted array:\", sorted_array)\n",
        "  \n",
        "n = 1\n",
        "rslt = sorted_array[-n : ]\n",
        "print(\"{}-largest value:\".format(n), rslt[0])\n",
        "\n",
        "n = 2\n",
        "rslt = sorted_array[-n : ]\n",
        "print(\"{}-largest value:\".format(n), rslt[0])\n"
      ],
      "execution_count": null,
      "outputs": []
    },
    {
      "cell_type": "markdown",
      "metadata": {
        "id": "KVQ52fHoOsMS"
      },
      "source": [
        "##### Sort the values in a matrix\n"
      ]
    },
    {
      "cell_type": "code",
      "metadata": {
        "id": "YkCOQ6tFWI6g"
      },
      "source": [
        "import numpy as np\n",
        "             \n",
        "matrix = np.matrix('[4, 1, 9; 12, 3, 1; 4, 5, 6]')\n",
        "print(\"Initial matrix: \\n\", matrix)\n",
        "\n",
        "matrix.sort()   \n",
        "print(\"\\nSort matrix: \\n\",matrix)"
      ],
      "execution_count": null,
      "outputs": []
    },
    {
      "cell_type": "markdown",
      "metadata": {
        "id": "jIwsjKuuOtuU"
      },
      "source": [
        "##### Filter out integers from float numpy array\n"
      ]
    },
    {
      "cell_type": "code",
      "metadata": {
        "id": "gk_QAWnUWJ5s"
      },
      "source": [
        "import numpy as np\n",
        "  \n",
        "ini_array = np.array([1.0, 1.2, 2.2, 2.0, 3.0, 2.0])\n",
        "  \n",
        "print (\"Initial array : \", str(ini_array))\n",
        "  \n",
        "result = ini_array[~np.equal(np.mod(ini_array, 1), 0)]\n",
        "  \n",
        "print (\"\\nFinal array : \", str(result))"
      ],
      "execution_count": null,
      "outputs": []
    },
    {
      "cell_type": "markdown",
      "metadata": {
        "id": "qwftF7HHOu0C"
      },
      "source": [
        "##### Find the indices into a sorted array"
      ]
    },
    {
      "cell_type": "code",
      "metadata": {
        "id": "Cts5hjzjWKzw"
      },
      "source": [
        "import numpy as np\n",
        "  \n",
        "array = np.array([10, 52, 62, 16, 16, 54, 453])\n",
        "print(\"Initial array: \",array)\n",
        "  \n",
        "indices = np.argsort(array)\n",
        "print(\"\\nIndices: \",indices)"
      ],
      "execution_count": null,
      "outputs": []
    },
    {
      "cell_type": "markdown",
      "metadata": {
        "id": "pBKQWfv8NeWo"
      },
      "source": [
        "# Questions on NumPy Mathematics\n"
      ]
    },
    {
      "cell_type": "markdown",
      "metadata": {
        "id": "dy50jRX9Ozvm"
      },
      "source": [
        "##### How to get element-wise true division of an array using Numpy?\n",
        "\n",
        "\n"
      ]
    },
    {
      "cell_type": "code",
      "metadata": {
        "id": "gr19omQDuXr4"
      },
      "source": [
        "import numpy as np\n",
        "  \n",
        "x = np.arange(5)\n",
        "  \n",
        "print(\"Initial array:\", x)\n",
        "  \n",
        "element = np.true_divide(x, 4)\n",
        "  \n",
        "print(\"Element-wise division:\", element)"
      ],
      "execution_count": null,
      "outputs": []
    },
    {
      "cell_type": "markdown",
      "metadata": {
        "id": "IttFK6QmO1fT"
      },
      "source": [
        "##### How to calculate the element-wise absolute value of NumPy array?\n"
      ]
    },
    {
      "cell_type": "code",
      "metadata": {
        "id": "Hc9SAvk4uYrd"
      },
      "source": [
        "import numpy as np\n",
        "  \n",
        "array = np.array([1, -2, 3])\n",
        "  \n",
        "print(\"Initial array: \", array)\n",
        "\n",
        "element = np.absolute(array)\n",
        "  \n",
        "print(\"\\nAbsolute array: \", element)"
      ],
      "execution_count": null,
      "outputs": []
    },
    {
      "cell_type": "markdown",
      "metadata": {
        "id": "cmnNmw7hO3q9"
      },
      "source": [
        "##### Compute the negative of the NumPy array\n"
      ]
    },
    {
      "cell_type": "code",
      "metadata": {
        "id": "buVRoxaOuaaC"
      },
      "source": [
        "import numpy as geek\n",
        "\n",
        "in_num = 10  \n",
        "print (\"Input  number : \", in_num)\n",
        "    \n",
        "out_num = geek.negative(in_num) \n",
        "print (\"negative of input number : \", out_num) "
      ],
      "execution_count": null,
      "outputs": []
    },
    {
      "cell_type": "markdown",
      "metadata": {
        "id": "-6NqjmkPO5Ah"
      },
      "source": [
        "##### Multiply 2d numpy array corresponding to 1d array\n"
      ]
    },
    {
      "cell_type": "code",
      "metadata": {
        "id": "o66rk_PwubHc"
      },
      "source": [
        "import numpy as np\n",
        "  \n",
        "array1 = np.array([[1, 2, 3], [2, 4, 5], [1, 2, 3]])\n",
        "array2 = np.array([0, 2, 3])\n",
        "\n",
        "print(\"Initial array 1: \", str(array1))\n",
        "print(\"\\nInitial array 2: \", str(array2))\n",
        "  \n",
        "result = array1 * array2[:, np.newaxis]\n",
        "  \n",
        "print(\"\\nNew resulting array: \\n\", result)"
      ],
      "execution_count": null,
      "outputs": []
    },
    {
      "cell_type": "markdown",
      "metadata": {
        "id": "inw3KGl-O6nU"
      },
      "source": [
        "##### Computes the inner product of two arrays\n"
      ]
    },
    {
      "cell_type": "code",
      "metadata": {
        "id": "63K5ksVBucFA"
      },
      "source": [
        "import numpy as np\n",
        " \n",
        "a = [[2, 1], [0, 3]]\n",
        "b = [[1, 1], [3, 2]]\n",
        " \n",
        "print(np.inner(a, b))"
      ],
      "execution_count": null,
      "outputs": []
    },
    {
      "cell_type": "markdown",
      "metadata": {
        "id": "vYtdZCI6O71F"
      },
      "source": [
        "##### Compute the nth percentile of the NumPy array\n"
      ]
    },
    {
      "cell_type": "code",
      "metadata": {
        "id": "YosW5BaIucuj"
      },
      "source": [
        "import numpy as np\n",
        "   \n",
        "array = np.array([20, 2, 7, 1, 34])\n",
        "print(\"Initial array : \", array)\n",
        "\n",
        "print(\"\\n50th percentile of arr : \",np.percentile(arr, 50))\n",
        "print(\"25th percentile of arr : \",np.percentile(arr, 25))\n",
        "print(\"75th percentile of arr : \",np.percentile(arr, 75))"
      ],
      "execution_count": null,
      "outputs": []
    },
    {
      "cell_type": "markdown",
      "metadata": {
        "id": "HIEiFmhvO9Id"
      },
      "source": [
        "##### Calculate the n-th order discrete difference along the given axis\n"
      ]
    },
    {
      "cell_type": "code",
      "metadata": {
        "id": "onrsIIu2udoU"
      },
      "source": [
        "import numpy as geek \n",
        "  \n",
        "arr = geek.array([1, 3, 4, 7, 9])\n",
        "   \n",
        "print(\"Initial array  : \", arr)\n",
        "print(\"\\nFirst order difference  : \", geek.diff(arr))\n",
        "print(\"Second order difference : \", geek.diff(arr, n = 2))\n",
        "print(\"Third order difference  : \", geek.diff(arr, n = 3))\n",
        "print(\"Fourth order difference  : \", geek.diff(arr, n = 4))"
      ],
      "execution_count": null,
      "outputs": []
    },
    {
      "cell_type": "markdown",
      "metadata": {
        "id": "dQKDOfvdO-jf"
      },
      "source": [
        "##### Calculate the sum of all columns in a 2D NumPy array\n"
      ]
    },
    {
      "cell_type": "code",
      "metadata": {
        "id": "8YALq2FIuedx"
      },
      "source": [
        "import numpy as np\n",
        "  \n",
        "TwoDList = [[1, 2, 3], [4, 5, 6], \n",
        "            [7, 8, 9], [10, 11, 12]]\n",
        "TwoDArray = np.array(TwoDList)\n",
        "  \n",
        "print(\"2D Array: \\n\", TwoDArray)\n",
        "  \n",
        "print(\"\\nSum: \", np.sum(TwoDArray, axis = 0))"
      ],
      "execution_count": null,
      "outputs": []
    },
    {
      "cell_type": "markdown",
      "metadata": {
        "id": "0eUu9NbPO_zz"
      },
      "source": [
        "##### Calculate average values of two given NumPy arrays\n"
      ]
    },
    {
      "cell_type": "code",
      "metadata": {
        "id": "y1k0IvbRufEq"
      },
      "source": [
        "import numpy as np\n",
        "  \n",
        "arr1 = np.array([3, 4])\n",
        "arr2 = np.array([1, 0])\n",
        "\n",
        "print(\"Array 1\", arr1)\n",
        "print(\"Array 2\", arr2)\n",
        "\n",
        "avg = (arr1 + arr2) / 2\n",
        "  \n",
        "print(\"Average of NumPy arrays: \", avg)"
      ],
      "execution_count": null,
      "outputs": []
    },
    {
      "cell_type": "markdown",
      "metadata": {
        "id": "RAUxBFqdPBHD"
      },
      "source": [
        "##### How to compute numerical negative value for all elements in a given NumPy array?\n"
      ]
    },
    {
      "cell_type": "code",
      "metadata": {
        "id": "qQjGpp7CufgT"
      },
      "source": [
        "import numpy as np\n",
        " \n",
        "x = np.array([-1, -2, -3, 1, 2, 3, 0])\n",
        "print(\"Initial array:\", x)\n",
        " \n",
        "r1 = np.negative(x)\n",
        "print(\"\\nNegative value of the given array:\", r1)"
      ],
      "execution_count": null,
      "outputs": []
    },
    {
      "cell_type": "markdown",
      "metadata": {
        "id": "a9hSxs1ePCSt"
      },
      "source": [
        "##### How to get the floor, ceiling and truncated values of the elements of a numpy array?\n"
      ]
    },
    {
      "cell_type": "code",
      "metadata": {
        "id": "cYhpNV0OuhHN"
      },
      "source": [
        "import numpy as np\n",
        "  \n",
        "array = np.array([-1.8, -1.6, -0.5, 0.5, 1.6, 1.8, 3.0])\n",
        "  \n",
        "floor = np.floor(array)\n",
        "print(\"Floor: \",floor)\n",
        "  \n",
        "ceil = np.ceil(array)\n",
        "print(\"Ceil: \", ceil)\n",
        "\n",
        "trunc = np.trunc(array)\n",
        "print(\"Trincated: \", trunc)"
      ],
      "execution_count": null,
      "outputs": []
    },
    {
      "cell_type": "markdown",
      "metadata": {
        "id": "x2gbgQq_PDva"
      },
      "source": [
        "##### How to round elements of the NumPy array to the nearest integer?\n"
      ]
    },
    {
      "cell_type": "code",
      "metadata": {
        "id": "sWdXrnw8uh0O"
      },
      "source": [
        "import numpy as n\n",
        "  \n",
        "y = n.array([0.2, 0.3, 0.4, 0.5, 0.6, 0.7])\n",
        "print(\"Initial array:\", y , end=\" \")\n",
        "  \n",
        "y = n.rint(y)\n",
        "print(\"\\nAfter round:\", y, end=\" \")"
      ],
      "execution_count": null,
      "outputs": []
    },
    {
      "cell_type": "markdown",
      "metadata": {
        "id": "8Dj8VM6IPEz8"
      },
      "source": [
        "##### Find the round off the values of the given matrix\n"
      ]
    },
    {
      "cell_type": "code",
      "metadata": {
        "id": "w6XvynwquiuR"
      },
      "source": [
        "import numpy as np\n",
        "           \n",
        "matrix = np.matrix('[1.2, 2.3; 4.7, 5.5; 7.2, 8.9]')\n",
        "           \n",
        "geeks = matrix.round()\n",
        "     \n",
        "print(geeks)"
      ],
      "execution_count": null,
      "outputs": []
    },
    {
      "cell_type": "markdown",
      "metadata": {
        "id": "SUWywdYXPF5J"
      },
      "source": [
        "##### Determine the positive square-root of an array\n"
      ]
    },
    {
      "cell_type": "code",
      "metadata": {
        "id": "syRwLiKAujlF"
      },
      "source": [
        "import numpy as geek \n",
        "  \n",
        "arr1 = geek.sqrt([1, 4, 9, 16])\n",
        "arr2 = geek.sqrt([6, 10, 18])\n",
        "\n",
        "print(\"Initial array 1\", arr1)\n",
        "print(\"Initial array 2\", arr2)\n",
        "  \n",
        "print(\"\\nSquare-root of an array1  : \", arr1)\n",
        "print(\"Square-root of an array2  : \", arr2)"
      ],
      "execution_count": null,
      "outputs": []
    },
    {
      "cell_type": "markdown",
      "metadata": {
        "id": "pVMRiF7gPG5n"
      },
      "source": [
        "##### Evaluate Einstein’s summation convention of two multidimensional NumPy arrays"
      ]
    },
    {
      "cell_type": "code",
      "metadata": {
        "id": "zQ45CyVVukUf"
      },
      "source": [
        "import numpy as np\n",
        "  \n",
        "matrix1 = np.array([[1, 2], [0, 2]])\n",
        "matrix2 = np.array([[0, 1], [3, 4]])\n",
        "  \n",
        "print(\"Original matrix 1: \\n\", matrix1)\n",
        "print(\"\\nOriginal matrix 2: \\n\", matrix2)\n",
        "\n",
        "  \n",
        "result = np.einsum(\"mk,kn\", matrix1, matrix2)\n",
        "  \n",
        "print(\"\\nEinstein’s summation convention of the two matrix:\\n\",result)"
      ],
      "execution_count": null,
      "outputs": []
    },
    {
      "cell_type": "markdown",
      "metadata": {
        "id": "SeEY9MULNhEX"
      },
      "source": [
        "# Questions on NumPy Statistics\n"
      ]
    },
    {
      "cell_type": "markdown",
      "metadata": {
        "id": "B2YLmOuEPK9B"
      },
      "source": [
        "##### Compute the median of the flattened NumPy array\n"
      ]
    },
    {
      "cell_type": "code",
      "metadata": {
        "id": "SISnTkf--wdl"
      },
      "source": [
        "import numpy as np\n",
        "  \n",
        "array = np.array([1, 2, 3, 4, 5, 6, 7])\n",
        "print(\"\\nInitial array: \", array)\n",
        "  \n",
        "med_array = np.median(array)\n",
        "print(\"\\nMedian of the flattened:\", med_array)"
      ],
      "execution_count": null,
      "outputs": []
    },
    {
      "cell_type": "markdown",
      "metadata": {
        "id": "oEeRm0lZPMrd"
      },
      "source": [
        "##### Find Mean of a List of Numpy Array\n"
      ]
    },
    {
      "cell_type": "code",
      "metadata": {
        "id": "rJu14_KO-xNG"
      },
      "source": [
        "import numpy as np\n",
        "  \n",
        "Input = [np.array([1, 2, 3]),\n",
        "         np.array([4, 5, 6]),\n",
        "         np.array([7, 8, 9])]\n",
        "  \n",
        "Output = []\n",
        "  \n",
        "for i in range(len(Input)):\n",
        "   Output.append(np.mean(Input[i]))\n",
        "  \n",
        "print(\"Mean: \",Output)"
      ],
      "execution_count": null,
      "outputs": []
    },
    {
      "cell_type": "markdown",
      "metadata": {
        "id": "i2_dn9s3PN5H"
      },
      "source": [
        "##### Calculate the mean of array ignoring the NaN value\n"
      ]
    },
    {
      "cell_type": "code",
      "metadata": {
        "id": "0UmRVTG--x2b"
      },
      "source": [
        "import numpy as np\n",
        "   \n",
        "array = np.array([[20, 15, 37], [47, 13, np.nan]])\n",
        "print(\"Initial array: \\n\", array)\n",
        "\n",
        "print(\"\\nShape of array: \", array.shape)\n",
        "   \n",
        "print(\"\\nMean of array without nanmean :\", np.mean(array))\n",
        "   \n",
        "print(\"\\nUsing nanmean:\", np.nanmean(array))"
      ],
      "execution_count": null,
      "outputs": []
    },
    {
      "cell_type": "markdown",
      "metadata": {
        "id": "HLNRrIg5PPCV"
      },
      "source": [
        "##### Get the mean value from given matrix\n"
      ]
    },
    {
      "cell_type": "code",
      "metadata": {
        "id": "yAYD8Xd0-yqf"
      },
      "source": [
        "import numpy as np\n",
        "          \n",
        "matrix = np.matrix('[64, 1; 12, 3]')\n",
        "print(\"Initial matrix: \\n\",matrix )\n",
        "geeks = matrix.mean()\n",
        "    \n",
        "print(\"Mean value: \",geeks)"
      ],
      "execution_count": null,
      "outputs": []
    },
    {
      "cell_type": "markdown",
      "metadata": {
        "id": "X5b3i6VwPQEb"
      },
      "source": [
        "##### Compute the variance of the NumPy array\n"
      ]
    },
    {
      "cell_type": "code",
      "metadata": {
        "id": "DxToZ98H-zl6"
      },
      "source": [
        "import numpy as np \n",
        "      \n",
        "array = np.array([20, 2, 7, 1, 34]) \n",
        "  \n",
        "print(\"Initial array : \", array) \n",
        "print(\"Variance of array : \", np.var(array)) \n"
      ],
      "execution_count": null,
      "outputs": []
    },
    {
      "cell_type": "markdown",
      "metadata": {
        "id": "in-hwcqyPRFM"
      },
      "source": [
        "##### Compute the standard deviation of the NumPy array\n"
      ]
    },
    {
      "cell_type": "code",
      "metadata": {
        "id": "CFIXLvSu-0Z7"
      },
      "source": [
        "import numpy as np\n",
        "\n",
        "array = [20, 2, 7, 1, 34]\n",
        "  \n",
        "print(\"Initial array : \", array) \n",
        "print(\"Standard of array : \", np.std(array))"
      ],
      "execution_count": null,
      "outputs": []
    },
    {
      "cell_type": "markdown",
      "metadata": {
        "id": "i-6HufR6PSQI"
      },
      "source": [
        "##### Compute pearson product-moment correlation coefficients of two given NumPy arrays\n"
      ]
    },
    {
      "cell_type": "code",
      "metadata": {
        "id": "pOK5MOp3-11I"
      },
      "source": [
        "import numpy as np\n",
        "  \n",
        "array1 = np.array([ 2, 4, 8])\n",
        "array2 = np.array([ 3, 2,1])\n",
        "  \n",
        "print(\"Array 1: \", array1)  \n",
        "print(\"Array 2: \", array2)  \n",
        "\n",
        "rslt2 = np.corrcoef(array1, array2)\n",
        "  \n",
        "print(\"\\nCorrelation coefficients: \\n\",rslt2)"
      ],
      "execution_count": null,
      "outputs": []
    },
    {
      "cell_type": "markdown",
      "metadata": {
        "id": "YX47uGIrPTio"
      },
      "source": [
        "##### Calculate the mean across dimension in a 2D NumPy array\n"
      ]
    },
    {
      "cell_type": "code",
      "metadata": {
        "id": "Mvc1bJU--2h3"
      },
      "source": [
        "import numpy as np\n",
        "  \n",
        "arr = np.array([[1, 2, 3], [4, 5, 6], [7, 8, 9]])\n",
        "  \n",
        "row_mean = np.mean(arr, axis =1)\n",
        "  \n",
        "row1_mean = row_mean[0]\n",
        "print(\"Mean of Row 1: \", row1_mean)\n",
        "  \n",
        "row2_mean = row_mean[1]\n",
        "print(\"Mean of Row 2: \", row2_mean)\n",
        "  \n",
        "row3_mean = row_mean[2]\n",
        "print(\"Mean of Row 3: \", row3_mean)\n",
        "print(\"----------------------\")\n",
        "  \n",
        "column_mean = np.mean(arr, axis=0)\n",
        "  \n",
        "column1_mean = column_mean[0]\n",
        "print(\"Mean of column 1: \", column1_mean)\n",
        "  \n",
        "column2_mean = column_mean[1]\n",
        "print(\"Mean of column 2: \", column2_mean)\n",
        "  \n",
        "column3_mean = column_mean[2]\n",
        "print(\"Mean of column 3: \", column3_mean)"
      ],
      "execution_count": null,
      "outputs": []
    },
    {
      "cell_type": "markdown",
      "metadata": {
        "id": "4sgZyUKCPUqV"
      },
      "source": [
        "##### Calculate the average, variance and standard deviation in Python using NumPy\n"
      ]
    },
    {
      "cell_type": "code",
      "metadata": {
        "id": "LI2cb10v-3Qf"
      },
      "source": [
        "import numpy as np\n",
        "  \n",
        "array = np.array([2, 4, 4, 4, 5, 5, 7, 9])\n",
        "  \n",
        "print(\"Average: \",np.average(array))\n",
        "print(\"Variance: \",np.var(array))\n",
        "print(\"Standard deviation: \",np.std(array))"
      ],
      "execution_count": null,
      "outputs": []
    },
    {
      "cell_type": "markdown",
      "metadata": {
        "id": "lIFnNZDYPV3E"
      },
      "source": [
        "##### Describe a NumPy Array in Python"
      ]
    },
    {
      "cell_type": "code",
      "metadata": {
        "id": "MMJW6osO-36T"
      },
      "source": [
        "import numpy as np  \n",
        "  \n",
        "array = np.array([4, 5, 8, 5, 6, 4, 9, 2, 4, 3, 6])    \n",
        "  \n",
        "mean = np.mean(array)\n",
        "median = np.median(array)\n",
        "min = np.amin(array)\n",
        "max = np.amax(array)\n",
        "range = np.ptp(array)\n",
        "varience = np.var(array)\n",
        "sd = np.std(array)\n",
        "  \n",
        "print(\"Descriptive analysis\\n\\n\")\n",
        "print(\"Initial Array =\", array)\n",
        "print(\"Measures of Central Tendency\")\n",
        "print(\"Mean =\", mean)\n",
        "print(\"Median =\", median)\n",
        "print(\"Measures of Dispersion\")\n",
        "print(\"Minimum =\", min)\n",
        "print(\"Maximum =\", max)\n",
        "print(\"Range =\", range)\n",
        "print(\"Variance =\", varience)\n",
        "print(\"Standard Deviation =\", sd)"
      ],
      "execution_count": null,
      "outputs": []
    },
    {
      "cell_type": "markdown",
      "metadata": {
        "id": "GFmjkghONg__"
      },
      "source": [
        "# Questions on Polynomial\n"
      ]
    },
    {
      "cell_type": "markdown",
      "metadata": {
        "id": "9xkuWFobPZ8o"
      },
      "source": [
        "##### Define a polynomial function\n"
      ]
    },
    {
      "cell_type": "code",
      "metadata": {
        "id": "qB-SFtCUIsLw"
      },
      "source": [
        "import numpy as np\n",
        "  \n",
        "p1 = np.poly1d([1, 2])\n",
        "p2 = np.poly1d([4, 9, 5, 4])\n",
        "  \n",
        "print (\"P1 : \", p1)\n",
        "print (\"\\n p2 : \", p2)\n",
        "  \n",
        "print (\"\\n\\np1 at x = 2 : \", p1(2))\n",
        "print (\"p2 at x = 2 : \", p2(2))\n",
        "  \n",
        "print (\"\\n\\nRoots of P1 : \", p1.r)\n",
        "print (\"Roots of P2 : \", p2.r)\n",
        "  \n",
        "print (\"\\n\\nCoefficients of P1 : \", p1.c)\n",
        "print (\"Coefficients of P2 : \", p2.coeffs)\n",
        "  \n",
        "print (\"\\n\\nOrder / Degree of P1 : \", p1.o)\n",
        "print (\"Order / Degree of P2 : \", p2.order)"
      ],
      "execution_count": null,
      "outputs": []
    },
    {
      "cell_type": "markdown",
      "metadata": {
        "id": "QRNBA2hqPbSM"
      },
      "source": [
        "##### How to add one polynomial to another using NumPy in Python?\n"
      ]
    },
    {
      "cell_type": "code",
      "metadata": {
        "id": "0Lfyj1P1Iuf1"
      },
      "source": [
        "import numpy\n",
        "\n",
        "px = (5,-2,5)\n",
        "print(\"Polynomial 1: \", px)\n",
        "qx = (2,-5,2)\n",
        "print(\"Polynomial 2: \", qx)\n",
        "  \n",
        "rx = numpy.polynomial.polynomial.polyadd(px,qx)\n",
        "  \n",
        "print(\"Result add: \",rx)"
      ],
      "execution_count": null,
      "outputs": []
    },
    {
      "cell_type": "markdown",
      "metadata": {
        "id": "DNr9QfsqPcn-"
      },
      "source": [
        "##### How to subtract one polynomial to another using NumPy in Python?\n"
      ]
    },
    {
      "cell_type": "code",
      "metadata": {
        "id": "C6DfUqdnIvH1"
      },
      "source": [
        "import numpy as np\n",
        "\n",
        "px = (5,-2,5)\n",
        "print(\"Polynomial 1: \", px)\n",
        "\n",
        "qx = (2,-5,2)\n",
        "print(\"Polynomial 2: \", qx)\n",
        "\n",
        "rx = numpy.polynomial.polynomial.polysub(px,qx)\n",
        "  \n",
        "print(\"Subtract: \",rx)"
      ],
      "execution_count": null,
      "outputs": []
    },
    {
      "cell_type": "markdown",
      "metadata": {
        "id": "tFv9NEfSPdtb"
      },
      "source": [
        "##### How to multiply a polynomial to another using NumPy in Python?\n"
      ]
    },
    {
      "cell_type": "code",
      "metadata": {
        "id": "Jm2au1C1Ivw3"
      },
      "source": [
        "import numpy as np\n",
        "\n",
        "px = (5,-2,5)\n",
        "print(\"Polynomial 1: \", px)\n",
        "\n",
        "qx = (2,-5,2)\n",
        "print(\"Polynomial 2: \", qx)\n",
        "\n",
        "rx = numpy.polynomial.polynomial.polymul(px,qx)\n",
        "\n",
        "print(\"Multiply: \",rx)"
      ],
      "execution_count": null,
      "outputs": []
    },
    {
      "cell_type": "markdown",
      "metadata": {
        "id": "wUgdXl7xPfda"
      },
      "source": [
        "##### How to divide a polynomial to another using NumPy in Python?\n"
      ]
    },
    {
      "cell_type": "code",
      "metadata": {
        "id": "JQ3fo3TzIwMO"
      },
      "source": [
        "import numpy as np\n",
        "\n",
        "px = (5,-2,5)\n",
        "print(\"Polynomial 1: \", px)\n",
        "\n",
        "gx = (2,-5,2)\n",
        "print(\"Polynomial 2: \", qx)\n",
        "\n",
        "qx, rx = numpy.polynomial.polynomial.polydiv(px,gx)\n",
        "\n",
        "print(\"Divide: \",qx,\"\\n\",rx)"
      ],
      "execution_count": null,
      "outputs": []
    },
    {
      "cell_type": "markdown",
      "metadata": {
        "id": "cqYsqemzPgmg"
      },
      "source": [
        "##### Find the roots of the polynomials using NumPy\n"
      ]
    },
    {
      "cell_type": "code",
      "metadata": {
        "id": "XHTdNoZAIxC8"
      },
      "source": [
        "import numpy as np\n",
        "  \n",
        "coeff = np.array([1, 3, 2, 1])\n",
        "print(\"Roots: \\n\",np.roots(coeff))"
      ],
      "execution_count": null,
      "outputs": []
    },
    {
      "cell_type": "markdown",
      "metadata": {
        "id": "6AUpg-_7Ph3g"
      },
      "source": [
        "##### Evaluate a 2-D polynomial series on the Cartesian product\n"
      ]
    },
    {
      "cell_type": "code",
      "metadata": {
        "id": "Sewb88Y5Ix6P"
      },
      "source": [
        "import numpy as np \n",
        "from numpy.polynomial.polynomial import polygrid2d\n",
        "  \n",
        "c = np.array([[1, 3, 5], [2, 4, 6]]) \n",
        "  \n",
        "ans = polygrid2d([7, 9], [8, 10], c)\n",
        "print(\"Result: \\n\",ans)"
      ],
      "execution_count": null,
      "outputs": []
    },
    {
      "cell_type": "markdown",
      "metadata": {
        "id": "O-QaYCaGPiwp"
      },
      "source": [
        "##### Evaluate a 3-D polynomial series on the Cartesian product"
      ]
    },
    {
      "cell_type": "code",
      "metadata": {
        "id": "JW5Q5Pl5IyXn"
      },
      "source": [
        "import numpy as np \n",
        "from numpy.polynomial.polynomial import polygrid3d\n",
        "  \n",
        "c = np.array([[1, 3, 5], [2, 4, 6], [10, 11, 12]]) \n",
        "  \n",
        "ans = polygrid3d([7, 9], [8, 10], [5, 6], c)\n",
        "print(\"Result: \\n\",ans)"
      ],
      "execution_count": null,
      "outputs": []
    },
    {
      "cell_type": "markdown",
      "metadata": {
        "id": "i6yEcmMmNnhK"
      },
      "source": [
        "# Questions on NumPy Strings"
      ]
    },
    {
      "cell_type": "markdown",
      "metadata": {
        "id": "nGQx0nyVPnEs"
      },
      "source": [
        "##### Repeat all the elements of a NumPy array of strings\n"
      ]
    },
    {
      "cell_type": "code",
      "metadata": {
        "id": "JIo2gcf3Nsy8"
      },
      "source": [
        "import numpy as np\n",
        "  \n",
        "array = np.array(['Kelly', 'Bianca', 'Tiago', 'Vieira', 'UFAL'], dtype = np.str)\n",
        "print(\"Initial Array :\", array)\n",
        "  \n",
        "new_array = np.char.multiply(array, 3)\n",
        "print(\"\\nNew array :\\n\", new_array)"
      ],
      "execution_count": null,
      "outputs": []
    },
    {
      "cell_type": "markdown",
      "metadata": {
        "id": "tJPBOhsLPois"
      },
      "source": [
        "##### How to split the element of a given NumPy array with spaces?\n"
      ]
    },
    {
      "cell_type": "code",
      "metadata": {
        "id": "ilzWdBCCNtpW"
      },
      "source": [
        "import numpy as np\n",
        "  \n",
        "array = np.array(['Linguagens de programação PHP C# Python C Java C++'], dtype=np.str)\n",
        "print(\"Initial array: \",array)\n",
        "  \n",
        "split = np.char.split(array)\n",
        "print(\"Split elements: \\n\",split)"
      ],
      "execution_count": null,
      "outputs": []
    },
    {
      "cell_type": "markdown",
      "metadata": {
        "id": "LAdQEC_hPqjv"
      },
      "source": [
        "##### How to insert a space between characters of all the elements of a given NumPy array?\n"
      ]
    },
    {
      "cell_type": "code",
      "metadata": {
        "id": "QzJXeeTRNuVe"
      },
      "source": [
        "import numpy as np\n",
        "  \n",
        "array = np.array([\"Kelly\", \"Bianca\", \"Araujo\"], dtype=np.str)\n",
        "print(\"Initial Array: \", array)\n",
        "  \n",
        "r = np.char.join(\" \", array)\n",
        "print(\"Array with spaces between characters \\n\",r )"
      ],
      "execution_count": null,
      "outputs": []
    },
    {
      "cell_type": "markdown",
      "metadata": {
        "id": "fOWrsoisPtqR"
      },
      "source": [
        "##### Find the length of each string element in the Numpy array\n"
      ]
    },
    {
      "cell_type": "code",
      "metadata": {
        "id": "2W1i6t2xNu8X"
      },
      "source": [
        "import numpy as np\n",
        "  \n",
        "arr = np.array(['Kelly', 'Bianca', 'Araujo', 'Silva', 'Instituto de computação'])\n",
        "\n",
        "print(\"Initial array: \", arr)\n",
        "\n",
        "length_checker = np.vectorize(len)\n",
        "  \n",
        "arr_len = length_checker(arr)\n",
        "  \n",
        "print(\"Lenght of each string: \", arr_len)"
      ],
      "execution_count": null,
      "outputs": []
    },
    {
      "cell_type": "markdown",
      "metadata": {
        "id": "xAQU007kP4Fa"
      },
      "source": [
        "##### Swap the case of an array of string\n"
      ]
    },
    {
      "cell_type": "code",
      "metadata": {
        "id": "eOdhTB_ONvfz"
      },
      "source": [
        "import numpy as np \n",
        "  \n",
        "array = np.array(['KELLY', 'tiago', 'UfAl', 'Silva'])\n",
        "print (\"Initial array : \", array)\n",
        "  \n",
        "swap = np.char.swapcase(array)\n",
        "print (\"Swapcasecased :\", swap)"
      ],
      "execution_count": null,
      "outputs": []
    },
    {
      "cell_type": "markdown",
      "metadata": {
        "id": "6gosagYZP5U5"
      },
      "source": [
        "##### Change the case to uppercase of elements of an array\n"
      ]
    },
    {
      "cell_type": "code",
      "metadata": {
        "id": "x2LDf3DeNwy_"
      },
      "source": [
        "import numpy as np\n",
        " \n",
        "print(np.char.upper(['kelly', 'bianca', 'ufal']))\n",
        " "
      ],
      "execution_count": null,
      "outputs": []
    },
    {
      "cell_type": "markdown",
      "metadata": {
        "id": "V6Pe2gTCP6nM"
      },
      "source": [
        "##### Change the case to lowercase of elements of an array\n"
      ]
    },
    {
      "cell_type": "code",
      "metadata": {
        "id": "q2zV5uFZNx1o"
      },
      "source": [
        "import numpy as np\n",
        " \n",
        "print(np.char.lower(['KELLY', 'BIANCA', 'UFAL']))"
      ],
      "execution_count": null,
      "outputs": []
    },
    {
      "cell_type": "markdown",
      "metadata": {
        "id": "U21ZN1wvP8AO"
      },
      "source": [
        "##### Join String by a seperator\n"
      ]
    },
    {
      "cell_type": "code",
      "metadata": {
        "id": "xNlHoFKTNy2Z"
      },
      "source": [
        "import numpy as np\n",
        "  \n",
        "array = np.array(['Python', 'Numpy', 'Pandas'])\n",
        "print (\"Inicial array : \", array) \n",
        "  \n",
        "sep = np.array(['-', '+', '*'])\n",
        "  \n",
        "out_arr = np.core.defchararray.join(sep, array)\n",
        "print (\"Array with separator: \", out_arr) "
      ],
      "execution_count": null,
      "outputs": []
    },
    {
      "cell_type": "markdown",
      "metadata": {
        "id": "8Bs2fPCVP9JG"
      },
      "source": [
        "##### Check if two same shaped string arrayss one by one\n"
      ]
    },
    {
      "cell_type": "code",
      "metadata": {
        "id": "7u5IvA9MNz6E"
      },
      "source": [
        "import numpy as geek\n",
        "  \n",
        "array1 = geek.array('numpy')\n",
        "print (\"Array 1: \", array1)\n",
        "  \n",
        "array2 = geek.array('numpy')\n",
        "print (\"Array 2: \", array2)  \n",
        "  \n",
        "out_arr = geek.char.equal(array1, array2)\n",
        "print (\"Output array: \", out_arr)"
      ],
      "execution_count": null,
      "outputs": []
    },
    {
      "cell_type": "markdown",
      "metadata": {
        "id": "N_PDKZJnP-eo"
      },
      "source": [
        "##### Count the number of substrings in an array\n"
      ]
    },
    {
      "cell_type": "code",
      "metadata": {
        "id": "R00fluodN0ki"
      },
      "source": [
        "import numpy as np\n",
        "  \n",
        "array = np.array(['banana', '  cana', 'navio'])\n",
        "print(\"Initial array : \", array) \n",
        "  \n",
        "count = np.char.count(array, sub ='an')\n",
        "print(\"Number of substrings (an) in array: \", count) "
      ],
      "execution_count": null,
      "outputs": []
    },
    {
      "cell_type": "markdown",
      "metadata": {
        "id": "wHQYy9jdP_om"
      },
      "source": [
        "##### Find the lowest index of the substring in an array\n"
      ]
    },
    {
      "cell_type": "code",
      "metadata": {
        "id": "XHJzIvIpN1LQ"
      },
      "source": [
        "import numpy as np \n",
        "  \n",
        "arr = ['vdsdsttetteteAAAa', 'AAAAAAAaattttds', 'AAaaxxxxtt', 'AAaaXDSDdscz']\n",
        "  \n",
        "print (\"arr : \", arr)\n",
        "  \n",
        "print (\"\\nfind of 'tt'\", np.char.find(arr, 'tt'))\n",
        "print (\"find of 'tt'\", np.char.find(arr, 'tt', start = 0))\n",
        "print (\"find of 'tt'\", np.char.find(arr, 'tt', start = 8))"
      ],
      "execution_count": null,
      "outputs": []
    },
    {
      "cell_type": "markdown",
      "metadata": {
        "id": "SBMJ01JzQGyM"
      },
      "source": [
        "##### Get the boolean array when values end with a particular character\n"
      ]
    },
    {
      "cell_type": "code",
      "metadata": {
        "id": "51BNWJQoN1yi"
      },
      "source": [
        "import numpy as np\n",
        "  \n",
        "array = np.array(['alagoas', 'varal', 'sal'])\n",
        "print(\"Initial array: \", array)\n",
        "\n",
        "find = np.char.endswith(array, 'al')\n",
        "print(\"Values with 'al' in the final\",find)"
      ],
      "execution_count": null,
      "outputs": []
    },
    {
      "cell_type": "markdown",
      "metadata": {
        "id": "aS2cT_SVQKaS"
      },
      "source": [
        "##### [More Questions on NumPy](https://www.geeksforgeeks.org/python-numpy-practice-exercises-questions-and-solutions/) \n"
      ]
    },
    {
      "cell_type": "markdown",
      "metadata": {
        "id": "pX0BxmLfQLoI"
      },
      "source": [
        "##### Different ways to convert a Python dictionary to a NumPy array\n"
      ]
    },
    {
      "cell_type": "code",
      "metadata": {
        "id": "Vk2WQ8wUN3Ol"
      },
      "source": [
        "import numpy as np\n",
        "  \n",
        "dict_created = {0: 0, 1: 1, 2: 8, 3: 27, 4: 64, 5: 125, 6: 216}\n",
        "  \n",
        "print(\"Inicial type: \",type(dict_created))\n",
        "\n",
        "res_array = np.array(list(dict_created.items()))\n",
        "  \n",
        "print(res_array)\n",
        "  \n",
        "print(\"After convert type: \",type(res_array))"
      ],
      "execution_count": null,
      "outputs": []
    },
    {
      "cell_type": "markdown",
      "metadata": {
        "id": "CcIfuEF2QOUh"
      },
      "source": [
        "##### How to convert a list and tuple into NumPy arrays?\n"
      ]
    },
    {
      "cell_type": "code",
      "metadata": {
        "id": "-d0W5PJ4N5N5"
      },
      "source": [
        "import numpy as np\n",
        "  \n",
        "list1 = [1, 2, 3]\n",
        "print(\"Type: \",type(list1), \"\\n\", list1, \"\\n\")\n",
        "\n",
        "array1 = np.array(list1)\n",
        "print(\"Convert list to array\",type(array1), \"\\n\", array1, \"\\n\")\n",
        "  \n",
        "tuple1 = ((1, 2, 3))\n",
        "print(\"Type: \",type(tuple1),\"\\n\",tuple1,\"\\n\")\n",
        "\n",
        "array2 = np.array(tuple1)\n",
        "print(\"Convert tuple to array\",type(array2),\"\\n\", array2, \"\\n\")\n",
        "  \n",
        "array3 = np.array([tuple1, list1, array2])\n",
        "print(\"Type: \",type(array3), \"\\n\", array3)"
      ],
      "execution_count": null,
      "outputs": []
    },
    {
      "cell_type": "markdown",
      "metadata": {
        "id": "vkZsDRozQPoN"
      },
      "source": [
        "##### Ways to convert array of strings to array of floats\n"
      ]
    },
    {
      "cell_type": "code",
      "metadata": {
        "id": "jPsZXBxBN54N"
      },
      "source": [
        "import numpy as np\n",
        "  \n",
        "ini_array = np.array([\"1.1\", \"1.5\", \"2.7\", \"8.9\"])\n",
        "  \n",
        "print (\"Iinitial array\", str(ini_array))\n",
        "\n",
        "res = ini_array.astype(np.float)\n",
        "  \n",
        "print (\"Final array\", str(res))"
      ],
      "execution_count": null,
      "outputs": []
    },
    {
      "cell_type": "markdown",
      "metadata": {
        "id": "zCfTGW1RQRpc"
      },
      "source": [
        "##### Convert a NumPy array into a csv file\n"
      ]
    },
    {
      "cell_type": "code",
      "metadata": {
        "id": "wNEaNRq5N6ib"
      },
      "source": [
        "import numpy as np\n",
        "  \n",
        "arr = np.arange(1,11)\n",
        "  \n",
        "print(arr)\n",
        "\n",
        "arr.tofile('data.csv', sep = ',')"
      ],
      "execution_count": null,
      "outputs": []
    },
    {
      "cell_type": "markdown",
      "metadata": {
        "id": "Qn36cxYNQS7P"
      },
      "source": [
        "##### How to Convert an image to NumPy array and save it to CSV file using Python?\n"
      ]
    },
    {
      "cell_type": "code",
      "metadata": {
        "id": "AEcRjLiPN7Nb"
      },
      "source": [
        "from PIL import Image\n",
        "import numpy as gfg\n",
        "\n",
        "img = Image.open('number.png')\n",
        "\n",
        "imageToMatrice = gfg.asarray(img)\n",
        "\n",
        "print(imageToMatrice.shape)\n"
      ],
      "execution_count": null,
      "outputs": []
    },
    {
      "cell_type": "markdown",
      "metadata": {
        "id": "AsUjMlcIQT9v"
      },
      "source": [
        "##### How to save a NumPy array to a text file?\n"
      ]
    },
    {
      "cell_type": "code",
      "metadata": {
        "id": "69ZspX-9N79B"
      },
      "source": [
        "import numpy as np\n",
        "\n",
        "List = [1, 2, 3, 4, 5]\n",
        "Array = np.array(List)\n",
        "\n",
        "print('Array:\\n', Array)\n",
        "\n",
        "np.savetxt(\"file1.txt\", Array)\n",
        "\n",
        "content = np.loadtxt('file1.txt')\n",
        "print(\"\\nContent in file1.txt:\\n\", content)\n"
      ],
      "execution_count": null,
      "outputs": []
    },
    {
      "cell_type": "markdown",
      "metadata": {
        "id": "6OLRaA31QU9U"
      },
      "source": [
        "##### Load data from a text file\n"
      ]
    },
    {
      "cell_type": "code",
      "metadata": {
        "id": "BcTb0JDON8f5"
      },
      "source": [
        "import numpy as np\n",
        "  \n",
        "File_data = np.loadtxt(\"file2.txt\", dtype=int)\n",
        "print(File_data)"
      ],
      "execution_count": null,
      "outputs": []
    },
    {
      "cell_type": "markdown",
      "metadata": {
        "id": "aA8ml2vHQWB8"
      },
      "source": [
        "##### Plot line graph from NumPy array\n"
      ]
    },
    {
      "cell_type": "code",
      "metadata": {
        "id": "xC7HkIyHN9IE"
      },
      "source": [
        "import numpy as np\n",
        "import matplotlib.pyplot as plt\n",
        " \n",
        "x = np.arange(1, 11)\n",
        "y = x * x\n",
        " \n",
        "plt.title(\"Line graph\")\n",
        "plt.xlabel(\"X axis\")\n",
        "plt.ylabel(\"Y axis\")\n",
        "plt.plot(x, y, color =\"red\")\n",
        "plt.show()"
      ],
      "execution_count": null,
      "outputs": []
    },
    {
      "cell_type": "markdown",
      "metadata": {
        "id": "-ntMoU9kQW9g"
      },
      "source": [
        "##### Create Histogram using NumPy"
      ]
    },
    {
      "cell_type": "code",
      "metadata": {
        "id": "ZNnj5ub0N_EK"
      },
      "source": [
        "from matplotlib import pyplot as plt\n",
        "import numpy as np\n",
        "\n",
        "a = np.random.randint(100, size =(50))\n",
        "\n",
        "fig = plt.figure(figsize =(10, 7))\n",
        "\n",
        "plt.hist(a, bins = [0, 10, 20, 30,\n",
        "\t\t\t\t\t40, 50, 60, 70,\n",
        "\t\t\t\t\t80, 90, 100])\n",
        "\n",
        "plt.title(\"Numpy Histogram\")\n",
        "plt.show()\n"
      ],
      "execution_count": null,
      "outputs": []
    }
  ]
}